{
  "nbformat": 4,
  "nbformat_minor": 0,
  "metadata": {
    "colab": {
      "provenance": [],
      "authorship_tag": "ABX9TyNMliCNwY4zaUpLyWTKEQlI"
    },
    "kernelspec": {
      "name": "python3",
      "display_name": "Python 3"
    },
    "language_info": {
      "name": "python"
    }
  },
  "cells": [
    {
      "cell_type": "markdown",
      "source": [
        "\n",
        "\n",
        "# KULLANICI BİLGİLERİ OLUŞTURMA"
      ],
      "metadata": {
        "id": "D5wk6os9pQ72"
      }
    },
    {
      "cell_type": "markdown",
      "source": [
        "\n",
        "\n",
        "> Bu proje de String veri tipin de kullanılan format metodunu kullanacağız\n",
        "\n"
      ],
      "metadata": {
        "id": "aDZ6S3LxT0tg"
      }
    },
    {
      "cell_type": "code",
      "source": [
        "user_name=input(\"Kullanıcı adı :\")\n",
        "age=int(input(\"Yaş :\"))\n",
        "password=int(input(\"Şifre :\"))\n",
        "\n",
        "print(f\" Merhaba \\n kullanıcı adınız : {user_name} \\n Yaşınız : {age} \\n Şifreniz : {password} olarak kaydedilmiştir. \")"
      ],
      "metadata": {
        "colab": {
          "base_uri": "https://localhost:8080/"
        },
        "id": "iamh-o9DUCyo",
        "outputId": "5fc3e4d0-17de-499d-d41f-3f7dc801fa62"
      },
      "execution_count": null,
      "outputs": [
        {
          "output_type": "stream",
          "name": "stdout",
          "text": [
            "Kullanıcı adı :emre\n",
            "Yaş :26\n",
            "Şifre :23243\n",
            " Merhaba \n",
            " kullanıcı adınız : emre \n",
            " Yaşınız : 26 \n",
            " Şifreniz : 23243 olarak kaydedilmiştir. \n"
          ]
        }
      ]
    },
    {
      "cell_type": "markdown",
      "source": [
        "\n",
        "\n",
        "> Format metodunu kullanarak yazdığımız kodları daha dinamik hale getirdik\n",
        "\n",
        "\n",
        "> Bu kodları daha da geliştirerek şifreyi maskeleyebiliriz ve şifrenin uzunluğunu belirtebiliriz\n",
        "\n",
        "\n",
        "\n"
      ],
      "metadata": {
        "id": "8bzDYn-FVZ2m"
      }
    },
    {
      "cell_type": "code",
      "source": [
        "user_name=input(\"Kullanıcı adı :\")\n",
        "age=input(\"Yaş :\")\n",
        "password=input(\"Şifre :\")\n",
        "\n",
        "print(f\" Merhaba \\n kullanıcı adınız : {user_name} \\n Yaşınız : {age} \\n Şifreniz : { '*' * len(password)} ve uzunluğu : {len(password)}  olarak kaydedilmiştir. \")"
      ],
      "metadata": {
        "colab": {
          "base_uri": "https://localhost:8080/"
        },
        "id": "PCC95wLRVtlk",
        "outputId": "cc8b8be4-e457-4ca2-ddb8-27d5a60f90f5"
      },
      "execution_count": null,
      "outputs": [
        {
          "output_type": "stream",
          "name": "stdout",
          "text": [
            "Kullanıcı adı :emre\n",
            "Yaş :26\n",
            "Şifre :12345\n",
            " Merhaba \n",
            " kullanıcı adınız : emre \n",
            " Yaşınız : 26 \n",
            " Şifreniz : ***** ve uzunluğu : 5  olarak kaydedilmiştir. \n"
          ]
        }
      ]
    },
    {
      "cell_type": "markdown",
      "source": [
        "\n",
        "\n",
        "> Ek olarak şifrenin uzunluğunu * ile çarpıp uzunluğunu görmek istedim\n",
        "\n",
        "\n"
      ],
      "metadata": {
        "id": "InTbFxsTYGTy"
      }
    },
    {
      "cell_type": "markdown",
      "source": [
        "\n",
        "\n",
        "\n",
        "> Bu kodu daha da geliştirebiliriz örneğin bir fonksiyon içerisine alıp giriş ekranı olarak kullanabiliriz\n",
        "\n",
        "\n",
        "\n",
        ">Kullanıcı herşeyi doğru bir şekil de girerse başarılı olur\n",
        "\n",
        "\n",
        "\n"
      ],
      "metadata": {
        "id": "TdsnE_nZYWjt"
      }
    },
    {
      "cell_type": "code",
      "source": [
        "def kayit_ol():\n",
        "  user_name=input(\"Kullanıcı adı :\")\n",
        "  age=input(\"Yaş :\")\n",
        "  password=input(\"Şifre :\")\n",
        "\n",
        "  print(f\" Merhaba \\n kullanıcı adınız : {user_name} \\n Yaşınız : {age} \\n Şifreniz : { '*' * len(password)} ve uzunluğu : {len(password)}  olarak kaydedilmiştir. \")\n",
        "\n",
        "  return user_name, age , password\n",
        "\n",
        "\n",
        "def giris():\n",
        "\n",
        "  user_name, age, password=kayit_ol()\n",
        "  while True :\n",
        "    my_user_name=input(\"Kullanıcı adı :\")\n",
        "    my_age=input(\"Yaş :\")\n",
        "    my_password=input(\"Şifre :\")\n",
        "\n",
        "    if my_user_name ==user_name and my_age==age and my_password==password:\n",
        "      print(\"Giriş Başarılı \")\n",
        "      break\n",
        "    else:\n",
        "      print(\"Giriş Başarısız\")\n",
        "      break\n",
        "\n",
        "\n",
        "giris()"
      ],
      "metadata": {
        "colab": {
          "base_uri": "https://localhost:8080/"
        },
        "id": "dehN0lL6Ytfq",
        "outputId": "916ba35a-ed78-479e-bf23-8b999e9448d3"
      },
      "execution_count": null,
      "outputs": [
        {
          "output_type": "stream",
          "name": "stdout",
          "text": [
            "Kullanıcı adı :emre\n",
            "Yaş :26\n",
            "Şifre :12345\n",
            " Merhaba \n",
            " kullanıcı adınız : emre \n",
            " Yaşınız : 26 \n",
            " Şifreniz : ***** ve uzunluğu : 5  olarak kaydedilmiştir. \n",
            "Kullanıcı adı :emre\n",
            "Yaş :26\n",
            "Şifre :12345\n",
            "Giriş Başarılı \n"
          ]
        }
      ]
    },
    {
      "cell_type": "markdown",
      "source": [
        "\n",
        "\n",
        "> Burada kayit_ol() adında bir fonksiyon oluşturduk ve içerisin de kullanıcıdan giriş almasını sağladık return ile değişkenlerimizi döndürdük\n",
        "\n",
        "\n",
        "\n",
        "> Sonrasında giris() adın da bir fonksiyon oluşturup önce ki fonksiyon ile karşılaştırdık ve koşulu sağlamasına göre işlemler yaptık\n",
        "\n",
        "\n",
        "\n"
      ],
      "metadata": {
        "id": "8_cB17FggOw8"
      }
    }
  ]
}