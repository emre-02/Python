{
  "nbformat": 4,
  "nbformat_minor": 0,
  "metadata": {
    "colab": {
      "provenance": [],
      "authorship_tag": "ABX9TyMclcYBEMsospXOSWCoz2fm"
    },
    "kernelspec": {
      "name": "python3",
      "display_name": "Python 3"
    },
    "language_info": {
      "name": "python"
    }
  },
  "cells": [
    {
      "cell_type": "markdown",
      "source": [
        "# TAHMİN OYUNU"
      ],
      "metadata": {
        "id": "cvc2dmuVpmPQ"
      }
    },
    {
      "cell_type": "markdown",
      "source": [
        "\n",
        "\n",
        "> Bu projede random kütüphanesini kullanarak bir tahmin oyunu yapacağız fonksiyonları, while döngüsünü ve koşulları kullanmak istiyoruz\n",
        "\n",
        "\n"
      ],
      "metadata": {
        "id": "OEQWYXWepvVZ"
      }
    },
    {
      "cell_type": "code",
      "source": [
        "import random\n",
        "\n",
        "def tahmin():\n",
        "\n",
        "  while True:\n",
        "    sayı_tahmin=int(input(\"Sayı Giriniz :\"))\n",
        "    dogru_sayi=random.randint(0,100)\n",
        "\n",
        "    if sayı_tahmin==dogru_sayi:\n",
        "      print(f\"Girdiğiniz sayı: {sayı_tahmin} doğru sayı ile eşleşiyor\")\n",
        "    else:\n",
        "      print(f\"Girdiğiniz sayı : {sayı_tahmin} doğru sayı: {dogru_sayi} tekrar deneyiniz.\")\n",
        "      break\n",
        "\n",
        "tahmin()"
      ],
      "metadata": {
        "colab": {
          "base_uri": "https://localhost:8080/"
        },
        "id": "LQJp_xXgqGbf",
        "outputId": "dd4036ac-c6ab-4d25-cb75-64f38ff844d6"
      },
      "execution_count": null,
      "outputs": [
        {
          "output_type": "stream",
          "name": "stdout",
          "text": [
            "Sayı Giriniz :5\n",
            "Girdiğiniz sayı : 5 doğru sayı: 74 tekrar deneyiniz.\n"
          ]
        }
      ]
    },
    {
      "cell_type": "markdown",
      "source": [
        "\n",
        "\n",
        "> import ile eklediğimiz random modülü sayı türetmeye yarar\n",
        "\n",
        "\n",
        "> tahmin() adında bir fonksiyon oluşturduk ve bu fonksiyon içerisin de sayı tahmin etmeye çalıştık\n",
        "\n",
        "\n",
        "\n",
        "> fonksiyon içerisin de kullanıcı hakkını kontrol eden bir değişken de oluşturabiliriz\n",
        "\n",
        "\n",
        "\n",
        "\n",
        "\n"
      ],
      "metadata": {
        "id": "7gTr0l7RrnJt"
      }
    },
    {
      "cell_type": "code",
      "source": [
        "import random\n",
        "\n",
        "def tahmin():\n",
        "  hak=3\n",
        "\n",
        "  while hak > 0 :\n",
        "    sayı_tahmin=int(input(\"Sayı Giriniz :\"))\n",
        "    dogru_sayi=random.randint(0,100)\n",
        "\n",
        "    if sayı_tahmin==dogru_sayi:\n",
        "      print(f\"Girdiğiniz sayı: {sayı_tahmin} doğru sayı ile eşleşiyor\")\n",
        "    else:\n",
        "      print(f\"Girdiğiniz sayı : {sayı_tahmin} doğru sayı: {dogru_sayi} {hak} hak kaldı.\")\n",
        "      hak-=1\n",
        "\n",
        "\n",
        "\n",
        "tahmin()"
      ],
      "metadata": {
        "colab": {
          "base_uri": "https://localhost:8080/"
        },
        "id": "1giWS8rGsGU7",
        "outputId": "f0c11754-77dc-4a19-f60b-1c3c2736340c"
      },
      "execution_count": null,
      "outputs": [
        {
          "output_type": "stream",
          "name": "stdout",
          "text": [
            "Sayı Giriniz :2\n",
            "Girdiğiniz sayı : 2 doğru sayı: 47 3 hak kaldı.\n",
            "Sayı Giriniz :3\n",
            "Girdiğiniz sayı : 3 doğru sayı: 93 2 hak kaldı.\n",
            "Hakkınız bitti...\n",
            "Sayı Giriniz :2\n",
            "Girdiğiniz sayı : 2 doğru sayı: 60 1 hak kaldı.\n"
          ]
        }
      ]
    },
    {
      "cell_type": "markdown",
      "source": [
        "\n",
        "\n",
        "> Kullanıcı  giriş yaparken sayı yerine başka birşey girebilir bunu önlemek için try except kullanabilir bu yapı bize kullanıcı hata yapınca uyarmamızı sağlayacak\n",
        "\n"
      ],
      "metadata": {
        "id": "pyG8FWMIv3UU"
      }
    },
    {
      "cell_type": "code",
      "source": [
        "import random\n",
        "\n",
        "def tahmin():\n",
        "  hak=3\n",
        "\n",
        "\n",
        "  while hak > 0 :\n",
        "    # try except kullanımı sayesin de kullanıcının sadece sayı girmesini\n",
        "    # sağladım.\n",
        "      try:\n",
        "        sayı_tahmin=int(input(\"Sayı Giriniz :\"))\n",
        "        dogru_sayi=random.randint(0,100)\n",
        "\n",
        "        if sayı_tahmin==dogru_sayi:\n",
        "          print(f\"Girdiğiniz sayı: {sayı_tahmin} doğru sayı ile eşleşiyor\")\n",
        "        else:\n",
        "          print(f\"Girdiğiniz sayı : {sayı_tahmin} doğru sayı: {dogru_sayi} {hak} hak kaldı.\")\n",
        "          hak-=1\n",
        "      except ValueError:\n",
        "        print(\"Lütfen sayı giriniz\")\n",
        "\n",
        "  while True:\n",
        "    tekrar=input(\"Tekrar oynamak ister misiniz e / h : \")\n",
        "\n",
        "    if tekrar==\"e\":\n",
        "      tahmin()\n",
        "    else:\n",
        "      print(\"Çıkış yapılıyor....\")\n",
        "      break\n",
        "\n",
        "\n",
        "\n",
        "tahmin()"
      ],
      "metadata": {
        "colab": {
          "base_uri": "https://localhost:8080/"
        },
        "id": "jKqEkeItwJrJ",
        "outputId": "be8e8331-715b-497b-ddc0-89ea15c462be"
      },
      "execution_count": null,
      "outputs": [
        {
          "output_type": "stream",
          "name": "stdout",
          "text": [
            "Sayı Giriniz :3\n",
            "Girdiğiniz sayı : 3 doğru sayı: 35 3 hak kaldı.\n",
            "Sayı Giriniz :3\n",
            "Girdiğiniz sayı : 3 doğru sayı: 54 2 hak kaldı.\n",
            "Sayı Giriniz :3\n",
            "Girdiğiniz sayı : 3 doğru sayı: 8 1 hak kaldı.\n",
            "Tekrar oynamak ister misiniz e / h : h\n",
            "Çıkış yapılıyor....\n"
          ]
        }
      ]
    }
  ]
}