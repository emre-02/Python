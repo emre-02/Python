{
  "nbformat": 4,
  "nbformat_minor": 0,
  "metadata": {
    "colab": {
      "provenance": [],
      "authorship_tag": "ABX9TyOnO985dWu/HAUP7OZBwF4U"
    },
    "kernelspec": {
      "name": "python3",
      "display_name": "Python 3"
    },
    "language_info": {
      "name": "python"
    }
  },
  "cells": [
    {
      "cell_type": "markdown",
      "source": [
        "# **KELİME BULMA**"
      ],
      "metadata": {
        "id": "Zv5fnDbl51Ph"
      }
    },
    {
      "cell_type": "markdown",
      "source": [
        "\n",
        "\n",
        "> Bu proje de liste veri tipinin insert() metodunu kullanarak basit bir kelime bulma oyunu yapıyoruz\n",
        "\n"
      ],
      "metadata": {
        "id": "gsySIhcm5nsY"
      }
    },
    {
      "cell_type": "code",
      "execution_count": null,
      "metadata": {
        "id": "0-lNzmAg0pKZ"
      },
      "outputs": [],
      "source": [
        "# kelime_bulma adında bir fonksiyon oluşturduk\n",
        "def kelime_bulmaca():\n",
        "\n",
        "  kelime=[\"P\",\"Y\",\"H\",\"O\",\"N\"]\n",
        "\n",
        "  print(f\"{kelime} eksik kelimeyi anlamlı hale getir.\")\n",
        "\n",
        "\n",
        "  hak=3\n",
        "  while hak > 0:\n",
        "    # eksik olan harfi bulup tahmin edebilmek için insert() metodunu kullandık\n",
        "    index=int(input(\"index i giriniz :\"))\n",
        "    yeni_kelime=input(\"Kelimeyi Giriniz : \")\n",
        "    kelime.insert(index,yeni_kelime)\n",
        "    yeni_kelime=kelime\n",
        "\n",
        "\n",
        "    if yeni_kelime==[\"P\",\"Y\",\"T\",\"H\",\"O\",\"N\"]:\n",
        "      print(f\"Tebrikler Kelime : {yeni_kelime}\")\n",
        "      break\n",
        "    else:\n",
        "      hak-=1\n",
        "      print(f\"tekrar deneyiniz {hak} kaldı\")\n",
        "\n",
        "kelime_bulmaca()\n",
        "\n"
      ]
    }
  ]
}