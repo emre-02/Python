{
  "nbformat": 4,
  "nbformat_minor": 0,
  "metadata": {
    "colab": {
      "provenance": [],
      "authorship_tag": "ABX9TyOchWUF25uTcMzQZBVoUqMm"
    },
    "kernelspec": {
      "name": "python3",
      "display_name": "Python 3"
    },
    "language_info": {
      "name": "python"
    }
  },
  "cells": [
    {
      "cell_type": "markdown",
      "source": [
        "# **TO-DO LİST**"
      ],
      "metadata": {
        "id": "ay_ZJrQZgQCp"
      }
    },
    {
      "cell_type": "markdown",
      "source": [
        "\n",
        "\n",
        "> Bu proje de liste veri tipini kullanarak bir to-do list yapacağız"
      ],
      "metadata": {
        "id": "cLwGukMDgV1y"
      }
    },
    {
      "cell_type": "code",
      "source": [
        "def todo():\n",
        "  # listem adın da bir değişken tanımladık\n",
        "  listem=list()\n",
        "  while True:\n",
        "\n",
        "\n",
        "    print(\"\"\"\n",
        "\n",
        "    1.Bugün yapılacakları ekle (1):\n",
        "    2.Yapılanları Çıkar (2):\n",
        "    3.Listele (3)\n",
        "    4.Çıkış (q):\n",
        "\n",
        "\n",
        "        \"\"\")\n",
        "    # yapılan seçimlere göre koşullar belirledik\n",
        "    seçim=input(\"Seçim Yapınız :\")\n",
        "    if seçim==\"1\":\n",
        "        ekle=input(\"ekle :\")\n",
        "        listem.append(ekle)\n",
        "        print(f\"{ekle}  eklendi \")\n",
        "    elif seçim==\"2\":\n",
        "         çıkar=int(input(\"çıkar : \"))\n",
        "         listem.pop(çıkar)\n",
        "         print(f\"{çıkar} index  çıkarıldı\")\n",
        "    elif seçim ==\"3\":\n",
        "        print(f\"liste içerisin de ki elemanlar : {listem}\")\n",
        "    else:\n",
        "        print(\"Çıkış Yapılıyor...\")\n",
        "        break\n",
        "\n",
        "todo()\n"
      ],
      "metadata": {
        "id": "rj88OHyOgmmm"
      },
      "execution_count": null,
      "outputs": []
    }
  ]
}