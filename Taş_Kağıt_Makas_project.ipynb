{
  "nbformat": 4,
  "nbformat_minor": 0,
  "metadata": {
    "colab": {
      "provenance": [],
      "authorship_tag": "ABX9TyMVvJY/njtYNjVMxH/2dzf3"
    },
    "kernelspec": {
      "name": "python3",
      "display_name": "Python 3"
    },
    "language_info": {
      "name": "python"
    }
  },
  "cells": [
    {
      "cell_type": "markdown",
      "source": [
        "# TAŞ KAĞIT MAKAS"
      ],
      "metadata": {
        "id": "EsmXTm6G0p0a"
      }
    },
    {
      "cell_type": "markdown",
      "source": [
        "\n",
        "\n",
        "> Taş kağıt makas oyununu python kodları yazarak yapacağız bunun için random modülünün choice() fonksiyonunu kullanacağız choice() fonksiyonu diziler içerisin den elemanları çıktı olarak almamızı sağlar\n",
        "\n"
      ],
      "metadata": {
        "id": "nJm4vbvT003a"
      }
    },
    {
      "cell_type": "code",
      "source": [
        "import random\n",
        "\n",
        "def oyun():\n",
        "  hak=3\n",
        "\n",
        "  while hak > 0:\n",
        "\n",
        "    seçenek=[\"taş\",\"kağıt\",\"makas\"]\n",
        "    print(\"Lütfen taş, kağıt veya makas olduğunu tahmin edin 3 hakkınız bulunmaktadır\")\n",
        "\n",
        "    seçim=input(\"Seçim :\")\n",
        "\n",
        "    if seçim == random.choice(seçenek):\n",
        "      print(f\" tebrikler doğru bildiniz sonuç : {random.choice(seçenek)}\")\n",
        "      break\n",
        "    else:\n",
        "      print(f\"Lütfen tekrar deneyiniz {hak} hak kaldı\")\n",
        "      hak-=1\n",
        "\n",
        "\n",
        "oyun()\n",
        "\n"
      ],
      "metadata": {
        "colab": {
          "base_uri": "https://localhost:8080/"
        },
        "id": "B73FThhK1L-1",
        "outputId": "9b120aca-5464-4a93-8ced-59c9694107c1"
      },
      "execution_count": null,
      "outputs": [
        {
          "output_type": "stream",
          "name": "stdout",
          "text": [
            "Lütfen taş, kağıt veya makas olduğunu tahmin edin 3 hakkınız bulunmaktadır\n",
            "Seçim :taş\n",
            "Lütfen tekrar deneyiniz 3 hak kaldı\n",
            "Lütfen taş, kağıt veya makas olduğunu tahmin edin 3 hakkınız bulunmaktadır\n",
            "Seçim :taş\n",
            "Lütfen tekrar deneyiniz 2 hak kaldı\n",
            "Lütfen taş, kağıt veya makas olduğunu tahmin edin 3 hakkınız bulunmaktadır\n",
            "Seçim :taş\n",
            "Lütfen tekrar deneyiniz 1 hak kaldı\n"
          ]
        }
      ]
    }
  ]
}