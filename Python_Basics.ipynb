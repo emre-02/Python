{
  "nbformat": 4,
  "nbformat_minor": 0,
  "metadata": {
    "colab": {
      "provenance": [],
      "authorship_tag": "ABX9TyMGjfIFjWHaR8aKvjboOZk9"
    },
    "kernelspec": {
      "name": "python3",
      "display_name": "Python 3"
    },
    "language_info": {
      "name": "python"
    }
  },
  "cells": [
    {
      "cell_type": "markdown",
      "source": [
        " * Python diğer programlama dilleri gibi bilgisayara yaptırmak istediklerimizi anlattığımız bir programlama dilidir.\n",
        "  Kodlarımızı yazarız ve arkaplanda söylemek istediklerimizi bilgisayara ileten bir sanal makine bulunur ve en sonun da bu makine ekrana istediklerimizi yazdırır."
      ],
      "metadata": {
        "id": "Am5iXSFhkcNt"
      }
    },
    {
      "cell_type": "markdown",
      "source": [
        "* Python da ekrana birşeyler yazdırmak istersek print() fonksiyonunu kullanırız\n",
        "\n"
      ],
      "metadata": {
        "id": "QrwyHxodk1Kz"
      }
    },
    {
      "cell_type": "code",
      "source": [
        "print(\"Emre\")"
      ],
      "metadata": {
        "colab": {
          "base_uri": "https://localhost:8080/"
        },
        "id": "4JD2_3xPaNxq",
        "outputId": "2ba70dd8-bf31-4111-de63-4b0a038aeb12"
      },
      "execution_count": null,
      "outputs": [
        {
          "output_type": "stream",
          "name": "stdout",
          "text": [
            "Emre\n"
          ]
        }
      ]
    },
    {
      "cell_type": "markdown",
      "source": [
        "* Kullanıcının girişini sağlayan bir diğer fonksiyon ise input() fonksiyonudur. Etkileşimli bir kod yazmak istersek bu fonksiyonu kullanabiliriz\n",
        "\n"
      ],
      "metadata": {
        "id": "SIjn3jUglHcg"
      }
    },
    {
      "cell_type": "code",
      "source": [
        "isim=input(\"İsminizi Giriniz:\")\n",
        "print(isim)"
      ],
      "metadata": {
        "colab": {
          "base_uri": "https://localhost:8080/"
        },
        "id": "O-49h2MvbjWC",
        "outputId": "dc849a05-4dd6-4659-ea3d-777180bb974f"
      },
      "execution_count": null,
      "outputs": [
        {
          "output_type": "stream",
          "name": "stdout",
          "text": [
            "İsminizi Giriniz:Emre\n",
            "Emre\n"
          ]
        }
      ]
    },
    {
      "cell_type": "markdown",
      "source": [
        "* İnput() fonksiyonu ile girilen ismin bir değişken de tutulabilmesi için isim adında bir değişken oluşturduk.\n",
        "* Girilen isim değişken de tutulur ve print() fonksiyonu ile ekrana yazdırılır."
      ],
      "metadata": {
        "id": "HdmscAOxlMh8"
      }
    },
    {
      "cell_type": "markdown",
      "source": [
        "# **DATA TYPES ( VERİ TİPLERİ )**"
      ],
      "metadata": {
        "id": "HI5C22MPvCSW"
      }
    },
    {
      "cell_type": "markdown",
      "source": [
        "* Python da ilk olarak Fundamental yani temel veri tipleri karşımıza çıkar bunlar; int, float, string, bool, list, tuple, set, dict olarak bilinirler\n",
        "\n",
        "* İlerleyen bölümler de karşımıza Class ve özel veri tiplerini içeren veri tipleri ile de karşılaşacağız."
      ],
      "metadata": {
        "id": "kKzwpS8dnQ7O"
      }
    },
    {
      "cell_type": "markdown",
      "source": [
        "* int tam sayı anlamına gelir integer olarak bilinir. Float ise ondalıklı sayıları temsil eder. int e örnek olarak 1 float a örnek olarak ise 1.2 yi verebiliriz."
      ],
      "metadata": {
        "id": "PhkLW23Wusx6"
      }
    },
    {
      "cell_type": "code",
      "source": [
        "tam_sayı=1\n",
        "ondalıklı_sayı=1.2\n",
        "\n",
        "print(type(tam_sayı))\n",
        "print(type(ondalıklı_sayı))"
      ],
      "metadata": {
        "colab": {
          "base_uri": "https://localhost:8080/"
        },
        "id": "yKlXzwmAvNh4",
        "outputId": "a103bd99-84a2-4d3b-e436-06edfd0cbe7d"
      },
      "execution_count": null,
      "outputs": [
        {
          "output_type": "stream",
          "name": "stdout",
          "text": [
            "<class 'int'>\n",
            "<class 'float'>\n"
          ]
        }
      ]
    },
    {
      "cell_type": "markdown",
      "source": [
        "* tam sayı ve ondalıklı sayı adın da iki değişken oluşturduk ve bu değiişkenlerin veri tiplerini type() fonksiyonu ile ekrana yazdırdık"
      ],
      "metadata": {
        "id": "g3ZZ0g-Nve-v"
      }
    },
    {
      "cell_type": "markdown",
      "source": [
        "* int ve float veri tipleri +, -, *, **, /, //, % matematiksel operatörlerle işlemler yapılabilir"
      ],
      "metadata": {
        "id": "dA4Qbaufvv63"
      }
    },
    {
      "cell_type": "code",
      "source": [
        "a=8\n",
        "b=3.2\n",
        "c=2\n",
        "\n",
        "print(\"a+b= \",a+b)\n",
        "\n",
        "print(\"a-b= \",b-a)\n",
        "\n",
        "print(\"a*b= \",a*b)\n",
        "\n",
        "print(\"a**b= \",a**c)\n",
        "\n",
        "print(\"a/b= \",a/c)\n",
        "\n",
        "print(\"a//b= \",a//b)\n",
        "\n",
        "print(\"a%b= \",a%c)"
      ],
      "metadata": {
        "colab": {
          "base_uri": "https://localhost:8080/"
        },
        "id": "J-HL3LRVwQ5h",
        "outputId": "23e269aa-cb2c-420d-8fe8-627c6c1715f6"
      },
      "execution_count": null,
      "outputs": [
        {
          "output_type": "stream",
          "name": "stdout",
          "text": [
            "a+b=  11.2\n",
            "a-b=  -4.8\n",
            "a*b=  25.6\n",
            "a**b=  64\n",
            "a/b=  4.0\n",
            "a//b=  2.0\n",
            "a%b=  0\n"
          ]
        }
      ]
    },
    {
      "cell_type": "markdown",
      "source": [
        "* Temel matematiksel operatörler dışında ** üs almaya , // bölümünü tam sayı vermeye, % ise mod almaya yarar"
      ],
      "metadata": {
        "id": "CrdNTIPuxJ_k"
      }
    },
    {
      "cell_type": "markdown",
      "source": [
        "* MATH FUNCTİONS ( MATEMATİKSEL FONKSİYONLAR )"
      ],
      "metadata": {
        "id": "UTe9MrnRyj8r"
      }
    },
    {
      "cell_type": "markdown",
      "source": [
        "* Kod içerisin de bazı işlemleri kolaylıkla yapmamıza yarayan matematik fonskiyonları bulunur. Bunlar; round() -> ondalıklı sayıyı en yakın sayıya yuvarlar. abs() -> negatif sayıyı pozitif e çevirir mutlak değer görevi görür."
      ],
      "metadata": {
        "id": "jv298fQ6yyms"
      }
    },
    {
      "cell_type": "code",
      "source": [
        "print(\" 3.8 sayısını en yakın sayıya yuvarladı= \",round(3.8))\n",
        "print(\" -5 sayısını pozitif e çevirdii= \", abs(-5))\n"
      ],
      "metadata": {
        "colab": {
          "base_uri": "https://localhost:8080/"
        },
        "id": "1qU0kbALzWJv",
        "outputId": "11218b3b-3e5a-4001-b220-c4acfa813f42"
      },
      "execution_count": null,
      "outputs": [
        {
          "output_type": "stream",
          "name": "stdout",
          "text": [
            " 3.8 sayısını en yakın sayıya yuvarladı=  4\n",
            " -5 sayısını pozitif e çevirdii=  5\n"
          ]
        }
      ]
    },
    {
      "cell_type": "markdown",
      "source": [
        "* Python da derinlemesine matematikten daha çok karşılaşacağımız şey  işlem öncelikleri olabilir\n",
        "\n",
        "\n",
        "```\n",
        "print((5 + 4) * 10 / 2)\n",
        "\n",
        "print(((5 + 4) * 10) / 2)\n",
        "\n",
        "print((5 + 4) * (10 / 2))\n",
        "\n",
        "print(5 + (4 * 10) / 2)\n",
        "\n",
        "print(5 + 4 * 10 // 2)\n",
        "```\n",
        "* Burada dikkat etmemiz gereken temel matematikte olduğu gibi parantez içerisinde başlayıp sırayla devam etmektir.\n",
        "\n",
        "\n"
      ],
      "metadata": {
        "id": "-w4eeW5NK0Pk"
      }
    },
    {
      "cell_type": "markdown",
      "source": [
        "* Python içerisin de pek kullanılmayan ama aklımızın bir köşesinde olmasının yararlı olabileceğini düşündüğüm iki fonksiyon var.\n",
        "* Biri complex() fonksiyonu bu fonksiyon çok karmaşık matematiksel işlemler yaparken işimize yarayabilir. Bir diğeri ise herhangi bir sayıyı binary şeklin de yazdırmaya yarayan bin() fonksiyonu bu fonksiyon da parantez içerisin de olan sayı 0b101 gibi binary e dönüşür bu ifade aslında 5 in karşılığıdır. Tam tersi binary nin karşılığını da print(int(0b101, 2)) şeklin de tam bir sayıya çevirebiliriz.\n",
        "* Bu bilgi aklımızın bir köşesin de yer edinirse bizim için yararlı olabilir\n",
        "\n",
        "\n",
        "\n",
        "\n",
        "\n",
        "\n",
        "\n"
      ],
      "metadata": {
        "id": "kq0hx7r5M-LH"
      }
    },
    {
      "cell_type": "markdown",
      "source": [
        "#**VARİABLES (DEĞİŞKENLER)**"
      ],
      "metadata": {
        "id": "w1i1mcFrPP5j"
      }
    },
    {
      "cell_type": "markdown",
      "source": [
        "* Oluşturduğumuz değeri bir yerde tutmamız gerekir.İhtiyacımız olduğu zaman çağırmak için değerleri değişkenlere atarız.\n",
        "* Kod yazarken değişkenleri genellikle snake_case denilen şekilde oluştururuz\n",
        "\n",
        "\n",
        "```\n",
        "my_variable=\"Merhaba\"\n",
        "```\n",
        "\n",
        "* Değerimiz i \"Merhaba\" olarak belirledik ve my_variable değişkenine atadık\n",
        "artık print(my_variable) yi ne zaman çağırırsak çıktı olarak \"Merhaba\" değerini görürüz."
      ],
      "metadata": {
        "id": "nn-fmlAvbGih"
      }
    },
    {
      "cell_type": "markdown",
      "source": [
        "* Bir değeri ve ve değer ile birlikte değişkeni de ifade eden iki terim bulunur;Expression değişkene atadığımız değer Statement ise değişken ve değer i kapsayandır"
      ],
      "metadata": {
        "id": "Vr89atXcgFsP"
      }
    },
    {
      "cell_type": "markdown",
      "source": [],
      "metadata": {
        "id": "jzpb9ZwujpYZ"
      }
    },
    {
      "cell_type": "markdown",
      "source": [
        "# **STRİNG VERİ TİPİ - STR**"
      ],
      "metadata": {
        "id": "bYTPswk7h5Wj"
      }
    },
    {
      "cell_type": "markdown",
      "source": [
        "* String veri tipi değişkenlere karakterler atamamıza yarar.\n",
        "\n",
        "\n",
        "```\n",
        "# my_string=\"Emre\"\n",
        "\n",
        "```\n",
        "\n",
        "\n",
        "\n"
      ],
      "metadata": {
        "id": "u9jHawZejPNL"
      }
    },
    {
      "cell_type": "markdown",
      "source": [
        "* String veri tipleri kendi araların da + ile birleşebilirler ama string veri tipi ile integer veri tipi birleşemez\n",
        "\n",
        "\n",
        "```\n",
        "name=\"Emre\"\n",
        "sur_name=\" Öztürk\"\n",
        "\n",
        "full_name=name+surname\n",
        "Çıktısı \"Emre Öztürk\"\n",
        "\n",
        "```\n",
        "* Örnekte olduğu gibi string ile string i birleştirdim ama int bir veri tipi yani tam sayı birleştirmeye çalışsaydım hata alırdım\n",
        "\n"
      ],
      "metadata": {
        "id": "onp1jG3BkzV3"
      }
    },
    {
      "cell_type": "markdown",
      "source": [
        "* String veri tipin de formatted Strings yani string formatlama bulunur bu yapı ile print içerisin de değişkenleri ekleyip daha dinamik bir hale getirebiliriz"
      ],
      "metadata": {
        "id": "XXqbdLF8o5N2"
      }
    },
    {
      "cell_type": "code",
      "source": [
        "name=\"Emre\"\n",
        "sur_name=\"Öztürk\"\n",
        "age=25\n",
        "\n",
        "print(f\"Hoş geldin {name} {sur_name} yaşınız : {age}\")"
      ],
      "metadata": {
        "colab": {
          "base_uri": "https://localhost:8080/"
        },
        "id": "UQP_rPXepL22",
        "outputId": "af473e79-ca35-4033-d995-6d81dbe3de0b"
      },
      "execution_count": null,
      "outputs": [
        {
          "output_type": "stream",
          "name": "stdout",
          "text": [
            "Hoş geldin Emre Öztürk yaşınız : 25\n"
          ]
        }
      ]
    },
    {
      "cell_type": "markdown",
      "source": [
        "* String formatlama da en temiz ve anlaşılır yöntem kullandığımız yöntemdir"
      ],
      "metadata": {
        "id": "3aRdOZmSpmRk"
      }
    },
    {
      "cell_type": "markdown",
      "source": [
        "* string veri tipinde ki değişkenler 0 dan başkar ve sırasıyla 1, 2 diye gider buna index deriz"
      ],
      "metadata": {
        "id": "ig521i2rsiCN"
      }
    },
    {
      "cell_type": "code",
      "source": [
        "my_index=\"123456\"\n",
        "my_index[0]"
      ],
      "metadata": {
        "colab": {
          "base_uri": "https://localhost:8080/",
          "height": 36
        },
        "id": "-FKIfqZ1stik",
        "outputId": "efb289d1-19e4-4b53-eb9b-1cd3baf5fc50"
      },
      "execution_count": null,
      "outputs": [
        {
          "output_type": "execute_result",
          "data": {
            "text/plain": [
              "'1'"
            ],
            "application/vnd.google.colaboratory.intrinsic+json": {
              "type": "string"
            }
          },
          "metadata": {},
          "execution_count": 2
        }
      ]
    },
    {
      "cell_type": "markdown",
      "source": [
        "* Burada köşeli parantez içerisin de sıfırıncı index i aldık"
      ],
      "metadata": {
        "id": "ME6ZoIi_s1Oi"
      }
    },
    {
      "cell_type": "code",
      "source": [
        "my_index[1:]\n",
        "\n",
        "# my_index[başla:dur:adım sayısı]\n",
        "\n",
        "my_index[0:4:2]\n",
        "\n",
        "# Burada sıfırıncı indexten başla dördüncü indexte dur ve 2 adım atla demek istedik\n",
        "\n",
        "my_index[::-1]\n",
        "\n",
        "# -1 yazarak stringi tersten yazdırabiliriz"
      ],
      "metadata": {
        "colab": {
          "base_uri": "https://localhost:8080/",
          "height": 36
        },
        "id": "5DT3qPH7s8bV",
        "outputId": "0601a454-2a5c-4f34-9683-b8035efc6384"
      },
      "execution_count": null,
      "outputs": [
        {
          "output_type": "execute_result",
          "data": {
            "text/plain": [
              "'654321'"
            ],
            "application/vnd.google.colaboratory.intrinsic+json": {
              "type": "string"
            }
          },
          "metadata": {},
          "execution_count": 5
        }
      ]
    },
    {
      "cell_type": "markdown",
      "source": [
        "* String ifadeler değiştirilemezler yani oluşturulan bir ifadenin içerisin de ki ifade değişmez"
      ],
      "metadata": {
        "id": "R9P7ZLNWvRB9"
      }
    },
    {
      "cell_type": "code",
      "source": [
        "my_string=\"Hello\"\n",
        "\n",
        "# my_string[2]=i\n",
        "\n",
        "# Burada biz ikinci index i değiştirmek istersek hata alırırız.\n",
        "# String bir ifadenin değiştirmenin tek yolu yeni bir ifade ye çevirmek olur"
      ],
      "metadata": {
        "id": "W3lulAkgvbjd"
      },
      "execution_count": null,
      "outputs": []
    },
    {
      "cell_type": "markdown",
      "source": [
        "* String ifadelerin içeriğin de değişiklikler yapmak istersek stringler için oluşturulmuş methodları kullanabiliriz bu methodlar string ifadeleri değiştirir."
      ],
      "metadata": {
        "id": "4uxmroSJIYB_"
      }
    },
    {
      "cell_type": "code",
      "source": [
        "my_string2=\"World\"\n",
        "\n",
        "my_string2.upper()\n",
        "\n",
        "# değişkenden sonra . koyarak metotlara ulaşabiliriz ve işimize yarayabilecekleri kullanırız bunlardan biri upper() metodu"
      ],
      "metadata": {
        "colab": {
          "base_uri": "https://localhost:8080/",
          "height": 36
        },
        "id": "Zb6SkbDvInoI",
        "outputId": "d5496d2f-2048-467b-f48c-7b34e42a6d46"
      },
      "execution_count": null,
      "outputs": [
        {
          "output_type": "execute_result",
          "data": {
            "text/plain": [
              "'WORLD'"
            ],
            "application/vnd.google.colaboratory.intrinsic+json": {
              "type": "string"
            }
          },
          "metadata": {},
          "execution_count": 8
        }
      ]
    },
    {
      "cell_type": "markdown",
      "source": [
        "* BOOLEAN\n",
        "* Boolean veri tipi doğru veya yanlışı temsil eder.\n",
        "* 1 doğru 0 ise yanlıştır.\n",
        "* Koşullu ifadelerin temeli sayılır"
      ],
      "metadata": {
        "id": "5DVgfn1IJ5Ib"
      }
    },
    {
      "cell_type": "code",
      "source": [
        "print(bool(1))"
      ],
      "metadata": {
        "colab": {
          "base_uri": "https://localhost:8080/"
        },
        "id": "BmiA8FZjKRqz",
        "outputId": "47cae145-947d-4a9d-8cda-8d76dc7dac55"
      },
      "execution_count": null,
      "outputs": [
        {
          "output_type": "stream",
          "name": "stdout",
          "text": [
            "True\n"
          ]
        }
      ]
    },
    {
      "cell_type": "code",
      "source": [
        "print(bool(0))"
      ],
      "metadata": {
        "colab": {
          "base_uri": "https://localhost:8080/"
        },
        "id": "aNg1-17zKVGn",
        "outputId": "e13f51be-e962-451a-915b-ec808868476a"
      },
      "execution_count": null,
      "outputs": [
        {
          "output_type": "stream",
          "name": "stdout",
          "text": [
            "False\n"
          ]
        }
      ]
    },
    {
      "cell_type": "markdown",
      "source": [
        "* **ALIŞTIRMA 1**"
      ],
      "metadata": {
        "id": "VxvbQ_CaLFHH"
      }
    },
    {
      "cell_type": "code",
      "source": [
        "my_birthday=int(input(\"Doğum yılınızı giriniz :\"))\n",
        "\n",
        "yas=2024 - my_birthday\n",
        "\n",
        "print(f\"Doğum yılınız : {my_birthday} ve yaşınız : {yas}\")\n",
        "\n",
        "# input oluşturup değişken e atadık ve girdiğimiz değeri string formatlama yöntemi ile ekrana yazdırdık.\n",
        "\n",
        "# string ve int birlikte toplanmayacağı için input u int içerisine alıp dönüşüm yaptık"
      ],
      "metadata": {
        "colab": {
          "base_uri": "https://localhost:8080/"
        },
        "id": "4k-V70DgLMot",
        "outputId": "0b9084af-f924-4d70-8fd9-a2785ea199bc"
      },
      "execution_count": null,
      "outputs": [
        {
          "output_type": "stream",
          "name": "stdout",
          "text": [
            "Doğum yılınızı giriniz :1998\n",
            "Doğum yılınız : 1998 ve yaşınız : 26\n"
          ]
        }
      ]
    },
    {
      "cell_type": "code",
      "source": [
        "user_name=input(\"Kullanıcı adı :\")\n",
        "password=input(\"Şifre :\")\n",
        "\n",
        "print(f\"Kullanıcı adınız : {user_name} şifreniz : {   '*' * len(password)} ve şifre uzunluğunuz : {len(password)}\")\n",
        "\n",
        "# Burada kullanıcı adı ve şifre aldık format metodu ile de çıktımızı yazdırdık\n",
        "\n",
        "# şifremizi * ile maskelemek isterken süslü parantez için de \"\" çift tırnak kullanmak hataya sebep verir tek tırnak kullanmamız gerekiyor"
      ],
      "metadata": {
        "id": "DDI7YL-1Li_G",
        "colab": {
          "base_uri": "https://localhost:8080/"
        },
        "outputId": "8199cef5-f3db-4801-f34b-264ebe37a955"
      },
      "execution_count": null,
      "outputs": [
        {
          "output_type": "stream",
          "name": "stdout",
          "text": [
            "Kullanıcı adı :emre\n",
            "Şifre :1234\n",
            "Kullanıcı adınız : emre şifreniz : **** ve şifre uzunluğunuz : 4\n"
          ]
        }
      ]
    },
    {
      "cell_type": "markdown",
      "source": [
        "# **LİSTS (LİSTE VERİ TİPLERİ)**"
      ],
      "metadata": {
        "id": "a-WK3wlYzNYw"
      }
    },
    {
      "cell_type": "markdown",
      "source": [
        "* Python da Veri Yapılarının yani Data Structures in ilkine listeler diyebiliriz\n",
        "* Listeler içerisin de farklı türden veri tiplerini tutabilir içerisin de int de olabilir float veri tipi de"
      ],
      "metadata": {
        "id": "UgKzxpr9zdDT"
      }
    },
    {
      "cell_type": "code",
      "source": [
        "listem=[\"merhaba\", 1 , 3.4 ,  True ]\n",
        "\n",
        "print(listem[3])"
      ],
      "metadata": {
        "colab": {
          "base_uri": "https://localhost:8080/"
        },
        "id": "zKWPxImG4tuH",
        "outputId": "fead7fa1-767e-44ee-fbe7-93d2466cc302"
      },
      "execution_count": null,
      "outputs": [
        {
          "output_type": "stream",
          "name": "stdout",
          "text": [
            "True\n"
          ]
        }
      ]
    },
    {
      "cell_type": "markdown",
      "source": [
        "* Bir değişkene atanan ve köşeli parantez ile oluşturulan liste veri tipinin içerisin de olan veri tiplerine erişebilmek için tıpkı str veri  tipin de olduğu gibi index alma yöntemi ile ulaşabiliriz"
      ],
      "metadata": {
        "id": "rPOf7VUN5GGC"
      }
    },
    {
      "cell_type": "markdown",
      "source": [
        "* Tıpkı str veri tipin de olduğu gibi listelerde de dilimleme yani silicing yapabiliriz."
      ],
      "metadata": {
        "id": "mQPAon8PDPXA"
      }
    },
    {
      "cell_type": "code",
      "source": [
        "listem=[\"merhaba\", 1 , 3.4 ,  True ]\n",
        "\n",
        "listem[1:3]\n",
        "# listem adında ki değişkeni 1. index ile 3. index arasında böldüm\n",
        "# sonuç olarak çıktım [1,3.4] olur\n",
        "\n",
        "listem[1:3:2]\n",
        "# burada 1. indexten başla 3. index e kadar git dedim ama bir farkla\n",
        "# son yazdığım sayesin de 2 adım ilerlemesini istedim\n",
        "# sonuç olarak çıktım [1] olur.\n",
        "\n",
        "listem[::-1]\n",
        "# sona -1 yazarak liste içindekilerin tam tersini alırım\n",
        "# çıktım [True, 3.4, 1, 'merhaba'] olur\n",
        "\n",
        "listem[::-2]\n",
        "# son a -2 yazrak 2 adım gitmesini istedim\n",
        "# [True, 1] şeklinde bir çıktı alırım.\n",
        "\n",
        "listem[0]=\"dünya\"\n",
        "\n",
        "# str içerisindekiler değiştirilemezdi ama liste veri tipi\n",
        "# içerisindekileri değiştirmeye izin verir\n",
        "\n",
        "print(listem)\n",
        "# çıktım [\"dünya\", 1 , 3.4 ,  True ] şeklinde olur"
      ],
      "metadata": {
        "id": "U75_9X28DbVB"
      },
      "execution_count": null,
      "outputs": []
    },
    {
      "cell_type": "markdown",
      "source": [
        "* Listeler içerisin de bir liste daha bulunabilir buna matrix deriz\n",
        "* Bunlara erişebilmek içinse index i kullabiliriz"
      ],
      "metadata": {
        "id": "8r8NWYZ9HJfq"
      }
    },
    {
      "cell_type": "code",
      "source": [
        "listem=[\"merhaba\", 1 , 3.4 ,  True , [4,5,6,7] ]\n",
        "listem[4]\n",
        "# [4,5,6,7] listesine index kullanarak ulaştık\n",
        "\n",
        "print(listem[4] [0])\n",
        "# bu şekilde de liste içerisinde ki öğelere erişebiliriz"
      ],
      "metadata": {
        "id": "PR8r1duNHZPC"
      },
      "execution_count": null,
      "outputs": []
    },
    {
      "cell_type": "code",
      "source": [
        "basket = [\"Banana\", [\"Apples\", [\"Oranges\"], \"Blueberries\"]]\n",
        "# Oranges e ulaşmak istersek\n",
        "\n",
        "print(basket[1] [1] [0])"
      ],
      "metadata": {
        "colab": {
          "base_uri": "https://localhost:8080/"
        },
        "id": "aHi7Ai1qHjAF",
        "outputId": "1d1cde91-b79c-438b-b9bc-4eb9b47cc8af"
      },
      "execution_count": null,
      "outputs": [
        {
          "output_type": "stream",
          "name": "stdout",
          "text": [
            "Oranges\n"
          ]
        }
      ]
    },
    {
      "cell_type": "markdown",
      "source": [
        "* Listeler de kullanabileceğimiz bazı kullanışlı metotlar vardır\n",
        "* Bu metotlar sayesin de liste içerisin de ekleme ve çıkarma yapabiliriz"
      ],
      "metadata": {
        "id": "mxKDRVfmLr-b"
      }
    },
    {
      "cell_type": "code",
      "source": [
        "\n",
        "listem= [1,2,3,4,5]\n",
        "\n",
        "# ekleme\n",
        "\n",
        "listem.append(100)\n",
        "\n",
        "print(listem)\n",
        "# append ile listenin sonuna eleman ekleyebiliriz\n",
        "\n",
        "listem.insert(0,99)\n",
        "\n",
        "print(listem)\n",
        "# insert metodu ile de istediğimiz index e ekleme yapabiliriz\n",
        "\n",
        "# çıkarma\n",
        "\n",
        "listem.pop()\n",
        "\n",
        "print(listem)\n",
        "# pop metodu parantez içerisine birşey yazmadığımız sürece son elemanı siler\n",
        "# parantez içerisine istediğimiz index i yazarsak o index silinir\n",
        "\n",
        "listem.remove(2)\n",
        "\n",
        "print(listem)\n",
        "\n",
        "listem.clear()\n",
        "\n",
        "print(listem)\n",
        "# clear metodu ise liste içerisinde ki herşeyi siler"
      ],
      "metadata": {
        "colab": {
          "base_uri": "https://localhost:8080/"
        },
        "id": "XgogfEs6L4UG",
        "outputId": "103ea6b6-19d8-4e6e-b632-557bcdd544fc"
      },
      "execution_count": null,
      "outputs": [
        {
          "output_type": "stream",
          "name": "stdout",
          "text": [
            "[1, 2, 3, 4, 5, 100]\n",
            "[99, 1, 2, 3, 4, 5, 100]\n",
            "[99, 1, 2, 3, 4, 5]\n",
            "[99, 1, 3, 4, 5]\n",
            "[]\n"
          ]
        }
      ]
    },
    {
      "cell_type": "code",
      "source": [
        "friends = ['Simon', 'Patty', 'Joy', 'Carrie', 'Amira', 'Chu']\n",
        "\n",
        "new_friend=[\"Stanley\"]\n",
        "\n",
        "friends.extend(new_friend)\n",
        "# extend metodu append metodu gibi listenin sonuna eleman ekleyebilir\n",
        "\n",
        "friends.reverse()\n",
        "# reverse metodu ile de listenin içinde ki elemanları tersine çevirebiliriz\n",
        "\n",
        "friends.sort()\n",
        "# sort metodu ise elamanları alfabetik sırayla dizmemizi sağlar\n",
        "\n",
        "print(friends)\n",
        "\n"
      ],
      "metadata": {
        "colab": {
          "base_uri": "https://localhost:8080/"
        },
        "id": "NJ8-VgSyMHll",
        "outputId": "9e54e819-5af5-42ff-8ef5-51ba0d14e5ca"
      },
      "execution_count": null,
      "outputs": [
        {
          "output_type": "stream",
          "name": "stdout",
          "text": [
            "['Amira', 'Carrie', 'Chu', 'Joy', 'Patty', 'Simon', 'Stanley']\n"
          ]
        }
      ]
    },
    {
      "cell_type": "code",
      "source": [
        "listem=[1,2,3,4,5]\n",
        "\n",
        "yeni_liste=listem.copy()\n",
        "# copy metodu ile mevcut listemin bir kopyasını oluşturabilirim\n",
        "# burada mevcut listem kaybolmaz veya değişmez bir kopyası oluşur\n",
        "\n",
        "print(yeni_liste)"
      ],
      "metadata": {
        "colab": {
          "base_uri": "https://localhost:8080/"
        },
        "id": "KUGYnFf8xicF",
        "outputId": "76e2b013-9825-46e6-d9b7-4dbc754b97d1"
      },
      "execution_count": null,
      "outputs": [
        {
          "output_type": "stream",
          "name": "stdout",
          "text": [
            "[1, 2, 3, 4, 5]\n"
          ]
        }
      ]
    },
    {
      "cell_type": "code",
      "source": [
        "listem=[1,2,3,4,5]\n",
        "\n",
        "x=listem.count(2)\n",
        "# count metodu ile liste içinde ki elemanın kaç kere döndüğünü anlayabiliriz\n",
        "\n",
        "print(x)"
      ],
      "metadata": {
        "colab": {
          "base_uri": "https://localhost:8080/"
        },
        "id": "LwZ0-Jzr00E6",
        "outputId": "fb122222-d478-4141-c49b-fa94f30b2308"
      },
      "execution_count": null,
      "outputs": [
        {
          "output_type": "stream",
          "name": "stdout",
          "text": [
            "1\n"
          ]
        }
      ]
    },
    {
      "cell_type": "code",
      "source": [
        "listem=[1,2,3,4,5]\n",
        "\n",
        "x=listem.index(4)\n",
        "# index metodu ile lliste içinde ki elamanın kaçıncı index de olduğunu anlarız\n",
        "\n",
        "print(x)"
      ],
      "metadata": {
        "colab": {
          "base_uri": "https://localhost:8080/"
        },
        "id": "aLCMeOYF1dGm",
        "outputId": "39cd1784-57e7-4121-e277-92880939e0c0"
      },
      "execution_count": null,
      "outputs": [
        {
          "output_type": "stream",
          "name": "stdout",
          "text": [
            "3\n"
          ]
        }
      ]
    },
    {
      "cell_type": "markdown",
      "source": [
        "* Değişkenler de kullandığımız;\n",
        "\n",
        "\n",
        "```\n",
        "a,b,c=1,2,3\n",
        "```\n",
        "* şeklin de ki yapı listelerde de kullanılabilir\n",
        "\n"
      ],
      "metadata": {
        "id": "d4_V-Vsj5H4h"
      }
    },
    {
      "cell_type": "code",
      "source": [
        "a, b, c =[1,2,3]\n",
        "\n",
        "print(a)\n",
        "print(b)\n",
        "print(c)\n",
        "# a, b, c adın da 3 değişkeni 3 farklı elemana atadık\n",
        "\n",
        "\n",
        "a, b , c, *other =[1,2,3,4,5]\n",
        "print(a)\n",
        "print(b)\n",
        "print(c)\n",
        "print(other)\n",
        "# a, b ve c değişkenleri ayrı other değişkeni de farklı olarak alınır"
      ],
      "metadata": {
        "colab": {
          "base_uri": "https://localhost:8080/"
        },
        "id": "8YL-S2ko5eJe",
        "outputId": "e53d3920-f636-47a6-de24-8cdf333aa080"
      },
      "execution_count": null,
      "outputs": [
        {
          "output_type": "stream",
          "name": "stdout",
          "text": [
            "1\n",
            "2\n",
            "3\n",
            "1\n",
            "2\n",
            "3\n",
            "[4, 5]\n"
          ]
        }
      ]
    },
    {
      "cell_type": "markdown",
      "source": [
        "# **DİCTİONARİES (SÖZLÜK)**"
      ],
      "metadata": {
        "id": "LSWzEOA7Znzo"
      }
    },
    {
      "cell_type": "markdown",
      "source": [
        "* Sözlükler içerisin de key (anahtar) ve value (değer) bulunduran başka bir veri yapısıdır.\n",
        "* Listeler de olduğu gibi index şeklin de sıralı değillerdir"
      ],
      "metadata": {
        "id": "QpeJSNHfZyjl"
      }
    },
    {
      "cell_type": "code",
      "source": [
        "sözlük={\"a\":1,\"b\":\"hello\",\"c\":[1,2,3]}\n",
        "print(type(sözlük))"
      ],
      "metadata": {
        "colab": {
          "base_uri": "https://localhost:8080/"
        },
        "id": "-Fvooc-1aEJG",
        "outputId": "c6d4e637-a74d-4ca9-9c5e-62471cf1db90"
      },
      "execution_count": null,
      "outputs": [
        {
          "output_type": "stream",
          "name": "stdout",
          "text": [
            "<class 'dict'>\n"
          ]
        }
      ]
    },
    {
      "cell_type": "code",
      "source": [
        "print(sözlük[\"a\"])\n",
        "# key yani anahtarı kullanarak değere value ulaşırım"
      ],
      "metadata": {
        "colab": {
          "base_uri": "https://localhost:8080/"
        },
        "id": "5t5RdiSvaUrz",
        "outputId": "9271ebeb-c91c-40be-9a5e-5189d6b9f493"
      },
      "execution_count": null,
      "outputs": [
        {
          "output_type": "stream",
          "name": "stdout",
          "text": [
            "1\n"
          ]
        }
      ]
    },
    {
      "cell_type": "code",
      "source": [
        "print(sözlük[\"c\"][1])\n",
        "# sözlük içerisiin de listeler bulunabilir"
      ],
      "metadata": {
        "colab": {
          "base_uri": "https://localhost:8080/"
        },
        "id": "_JvQlKq-ac8M",
        "outputId": "02aaedde-c843-4021-e41c-7f1dbfa7f97c"
      },
      "execution_count": null,
      "outputs": [
        {
          "output_type": "stream",
          "name": "stdout",
          "text": [
            "2\n"
          ]
        }
      ]
    },
    {
      "cell_type": "code",
      "source": [
        "listem=[\n",
        "    {\n",
        "        \"d\":1,\n",
        "        \"e\":True,\n",
        "        \"f\":[4,5,6]\n",
        "    }\n",
        "]\n",
        "\n",
        "\n",
        "print(listem[0][\"f\"][0])\n",
        "# liste içerisinde de sözlükler bulunabilir"
      ],
      "metadata": {
        "colab": {
          "base_uri": "https://localhost:8080/"
        },
        "id": "UBxm_LIWau92",
        "outputId": "07dc181e-3b25-4cb2-baac-289757b41933"
      },
      "execution_count": null,
      "outputs": [
        {
          "output_type": "stream",
          "name": "stdout",
          "text": [
            "4\n"
          ]
        }
      ]
    },
    {
      "cell_type": "markdown",
      "source": [
        "* Sözlükler de anahtarlar yani key değiştirilemez veri tiplerinden oluşurlar ve genel de string veri tipleri kullanılır"
      ],
      "metadata": {
        "id": "l2goLPDqdV6X"
      }
    },
    {
      "cell_type": "code",
      "source": [
        "sözlük={\n",
        "    \"a\":\"hello\",\n",
        "    123:[4,5],\n",
        "    True:5,\n",
        "\n",
        "}\n",
        "\n",
        "# genellikle string veri tipi kullanılmasına rağmen değiştirilemez olan tüm veri\n",
        "# tipleri kullanılabilir"
      ],
      "metadata": {
        "id": "Q4_syzJJdfuI"
      },
      "execution_count": null,
      "outputs": []
    },
    {
      "cell_type": "code",
      "source": [
        "sözlük={\n",
        "    \"user\":\"Emre\",\n",
        "    \"password\":\"12345\",\n",
        "\n",
        "}\n",
        "\n",
        "\n",
        "print(sözlük.get(\"age\"))\n",
        "\n",
        "# Sözlükler de listeler gibi metotlar içerir bunlardan biri get() metodudur\n",
        "# get() metodu sayesin de sözlük içerisin de hangi anahtar olup olmadığını\n",
        "# anlarız ve istersek olmayan anahtar için yeni bir anahtar yazabiliriz"
      ],
      "metadata": {
        "colab": {
          "base_uri": "https://localhost:8080/"
        },
        "id": "wT5cCxuxeGsU",
        "outputId": "4375a89d-7519-477e-b8f9-94317a782013"
      },
      "execution_count": null,
      "outputs": [
        {
          "output_type": "stream",
          "name": "stdout",
          "text": [
            "None\n"
          ]
        }
      ]
    },
    {
      "cell_type": "code",
      "source": [
        "sözlük={\n",
        "    \"user\":\"Emre\",\n",
        "    \"password\":\"12345\",\n",
        "\n",
        "}\n",
        "\n",
        "\n",
        "print(sözlük.get(\"age\",25))\n"
      ],
      "metadata": {
        "id": "XgAK4u0ifb9r"
      },
      "execution_count": null,
      "outputs": []
    },
    {
      "cell_type": "code",
      "source": [
        "sözlük={\n",
        "    \"a\":1,\n",
        "    \"b\":2,\n",
        "    \"c\":3\n",
        "}\n",
        "\n",
        "\n",
        "print(sözlük.keys())\n",
        "# keys() metodu sözlük içerisin de bulunan anahtarları belirtir\n",
        "\n",
        "print(sözlük.values())\n",
        "# values() metodu değerleri belirtir\n",
        "\n",
        "sözlük2=sözlük.copy()\n",
        "\n",
        "print(sözlük2)\n",
        "\n",
        "# copy() metodu ile var olan sözlüğün yeni bir kopyasını oluşturabiliriz\n",
        "\n",
        "print(sözlük.items())\n",
        "# items() metodu key ve value birlikte verir\n",
        "\n",
        "sözlük.update({\"d\":4})\n",
        "print(sözlük)\n",
        "# update() metodu ile sözlük içine yeni bir key value eklenebilir\n",
        "\n",
        "sözlük.pop(\"a\")\n",
        "print(sözlük)\n",
        "# pop() metodu ile belirtilen key ve değeri silinir\n",
        "\n",
        "sözlük.popitem()\n",
        "print(sözlük)\n",
        "# sözlükler her ne kadar sıralı olmasalar da popitem() metodu ile\n",
        "# son eklenen key value kaldırılır\n",
        "\n"
      ],
      "metadata": {
        "colab": {
          "base_uri": "https://localhost:8080/"
        },
        "id": "g1PMSVFwf23O",
        "outputId": "0dea7a41-34d3-4939-9580-5a417e9eaa9a"
      },
      "execution_count": null,
      "outputs": [
        {
          "output_type": "stream",
          "name": "stdout",
          "text": [
            "dict_keys(['a', 'b', 'c'])\n",
            "dict_values([1, 2, 3])\n",
            "{'a': 1, 'b': 2, 'c': 3}\n",
            "dict_items([('a', 1), ('b', 2), ('c', 3)])\n",
            "{'a': 1, 'b': 2, 'c': 3, 'd': 4}\n",
            "{'b': 2, 'c': 3, 'd': 4}\n",
            "{'b': 2, 'c': 3}\n"
          ]
        }
      ]
    },
    {
      "cell_type": "markdown",
      "source": [
        "# **TUPLES**"
      ],
      "metadata": {
        "id": "hn4p_iw4f3YP"
      }
    },
    {
      "cell_type": "markdown",
      "source": [
        "* Tuple veri yapısı nerdeyse listelere benzer ama farklı olarak içinde ki değerler değişmezdir\n",
        "* Değişmesini istemediğimiz değerler i tuple kullanarak oluşturabiliriz"
      ],
      "metadata": {
        "id": "jOsmW1relrwe"
      }
    },
    {
      "cell_type": "code",
      "source": [
        "my_tuple=(1,2,3,\"a\")\n",
        "# () parantez  içinde olan değerler değiştirilemez\n",
        "\n",
        "# my_tuple[0]=6\n",
        "# Sıfırıncı indeksi değiştirmek istersek bir hata alırız"
      ],
      "metadata": {
        "id": "jYJZ5pq2l8Br"
      },
      "execution_count": null,
      "outputs": []
    },
    {
      "cell_type": "code",
      "source": [
        "my_tuple=(1,2,3,\"a\")\n",
        "\n",
        "print(my_tuple.count(1))\n",
        "# Tuple da count() metodu sayesinde içerisinde kaç tane\n",
        "# değer olduğunu öğrenebiliriz\n",
        "\n",
        "print(my_tuple.index(3))\n",
        "# index() metodu ile de kaçıncı indexte olduğunu öğreniriz\n"
      ],
      "metadata": {
        "id": "zGa5njsdmOag"
      },
      "execution_count": null,
      "outputs": []
    },
    {
      "cell_type": "markdown",
      "source": [
        "# **SET VERİ YAPISI**"
      ],
      "metadata": {
        "id": "Gu0jfQf4nwO0"
      }
    },
    {
      "cell_type": "markdown",
      "source": [
        "* Set veri yapısının içinde ki değerler benzersiz ve tekrarlanmayan değerlerdir\n",
        "* Sıralanmış olmadıkları için index ile değerlere ulaşamayız"
      ],
      "metadata": {
        "id": "xbCFsbEtp67a"
      }
    },
    {
      "cell_type": "code",
      "source": [
        "my_set={1,2,3,4,5,5}\n",
        "\n",
        "print(my_set)\n",
        "# Aynı değerden sadece 1 tane bulunabilir"
      ],
      "metadata": {
        "colab": {
          "base_uri": "https://localhost:8080/"
        },
        "id": "1urGpax9qITb",
        "outputId": "fea0fe7b-fcf9-4636-f708-e109daf500ad"
      },
      "execution_count": null,
      "outputs": [
        {
          "output_type": "stream",
          "name": "stdout",
          "text": [
            "{1, 2, 3, 4, 5}\n"
          ]
        }
      ]
    },
    {
      "cell_type": "markdown",
      "source": [
        "# **CONDİTİONAL LOGİC ( KOŞULLU İFADELER )**"
      ],
      "metadata": {
        "id": "sJqCjM53zwp1"
      }
    },
    {
      "cell_type": "markdown",
      "source": [
        "* Eğer bir koşulu sağlamak istersek yani birşey sağlanıyorsa bunu yap gibi bir yapı kullanmak istersek bu koşullu ifadelerle mümkün olur"
      ],
      "metadata": {
        "id": "Stg8JK2Jz3-d"
      }
    },
    {
      "cell_type": "code",
      "source": [
        "age=True\n",
        "password=True\n",
        "\n",
        "if age and password:\n",
        "  print(\"Yaş ve şifre uyumlu\")\n",
        "else:\n",
        "  print(\"Geçersiz\")\n",
        "\n",
        "# Burada if kullanarak koşullu bir ifadeyi başlatmış olduk\n",
        "# and ile de iki değişkenim de doğruysa koşulu sağla dedik\n",
        "# else ise ilk dediğimiz ifadeleri karşılamıyorsa devreye girer."
      ],
      "metadata": {
        "colab": {
          "base_uri": "https://localhost:8080/"
        },
        "id": "j2-1JKMh0Knc",
        "outputId": "4540e721-914a-4447-f88d-6fe744d8dd9c"
      },
      "execution_count": null,
      "outputs": [
        {
          "output_type": "stream",
          "name": "stdout",
          "text": [
            "Yaş ve şifre uyumlu\n"
          ]
        }
      ]
    },
    {
      "cell_type": "code",
      "source": [
        "user_name=[input(\"Kullanıcı adı :\")]\n",
        "password=[input(\"Şifre :\")]\n",
        "\n",
        "\n",
        "kullanıcı_adı=[input(\"Kullanıcı adı :\")]\n",
        "şifre=[input(\"Şifre :\")]\n",
        "\n",
        "if (user_name==kullanıcı_adı) and (password==şifre):\n",
        "  print(\"Giriş Başarılı\")\n",
        "elif (kullanıcı_adı==user_name) or (şifre==password):\n",
        "  print(\"Kullanıcı adı veya şifre hatalı\")\n",
        "else:\n",
        "  print(\"Tekrar deneyiniz\")\n",
        "\n",
        "# kullanıcı adı ve şifre oluşturup kullanıcının bilgilerinin doğruluğuna göre\n",
        "# koşul oluşturdum"
      ],
      "metadata": {
        "id": "N71B33ad0lW8"
      },
      "execution_count": null,
      "outputs": []
    },
    {
      "cell_type": "markdown",
      "source": [
        "* TERNARY OPERATOR"
      ],
      "metadata": {
        "id": "j2UVfrGDaAp0"
      }
    },
    {
      "cell_type": "markdown",
      "source": [
        "* Üçlü operatör anlamına gelir basit bir if else bloğunu tek satırda yazmamızı sağlar\n",
        "* Temiz kod yazmak istersek ternary operatör kullanmak mantıklıdır\n",
        "* Ternary operatörü kullanırken dikkat etmemiz gereken nokta koşulun basit koşul olmasıdır"
      ],
      "metadata": {
        "id": "IgTk9KkMaXub"
      }
    },
    {
      "cell_type": "code",
      "source": [
        "# koşul doğruysa çalıştır if koşul else koşul doğru değilse çalıştır\n",
        "# kodun yazılış şeklini bu şekilde ifade edebiliriz"
      ],
      "metadata": {
        "id": "FteJx0m_amSL"
      },
      "execution_count": null,
      "outputs": []
    },
    {
      "cell_type": "code",
      "source": [
        "password=\"123\"\n",
        "\n",
        "giriş=input(\"Şifre :\")\n",
        "\n",
        "password_check=\"giriş başarılı\" if password==giriş else \"giriş başarısız\"\n",
        "\n",
        "print(password_check)\n",
        "\n",
        "# password değişkeni giriş e eşit ise giriş başarılı değilse başarısız mesajı\n",
        "# aldığımız bir ternary operatörü kullandık"
      ],
      "metadata": {
        "colab": {
          "base_uri": "https://localhost:8080/"
        },
        "id": "9yEV8VwtbGmk",
        "outputId": "5dc3b12e-bb05-4694-bf2c-b9ede0a8a9bf"
      },
      "execution_count": null,
      "outputs": [
        {
          "output_type": "stream",
          "name": "stdout",
          "text": [
            "Şifre :123\n",
            "giriş başarılı\n"
          ]
        }
      ]
    },
    {
      "cell_type": "markdown",
      "source": [
        "* **ALIŞTIRMA 2**"
      ],
      "metadata": {
        "id": "Qv8K_uzuhZ0w"
      }
    },
    {
      "cell_type": "code",
      "source": [
        "is_magician=False\n",
        "is_expert=True\n",
        "\n",
        "# Bir oyun da olduğumuzu düşünelim\n",
        "# Bu oyun da büyü ve uzmanlık adın da 2 değişken var\n",
        "# Değişkenlerin değerlerine göre oyun da ilerleyeceğiz\n",
        "\n",
        "\n",
        "if is_magician and is_expert:\n",
        "  print(\"Uzman büyücü\")\n",
        "elif is_magician or is_expert:\n",
        "  print(\"Büyücü olmaya yakın\")\n",
        "else:\n",
        "  print(\"Daha fazla Çalışmalısın\")\n",
        "\n",
        "# büyücü değişkenimiz False uzman değişkenimiz ise True\n",
        "# koşullu ifadeler de and ve or a göre işlemler yaptık\n",
        "# bu işlemler sonucunun da \"büyücü olmaya yakın\" sonucunu aldık"
      ],
      "metadata": {
        "colab": {
          "base_uri": "https://localhost:8080/"
        },
        "id": "wIXJgY0Ohdaq",
        "outputId": "6b953e10-365f-4f6b-b37b-0b2aa59413f4"
      },
      "execution_count": null,
      "outputs": [
        {
          "output_type": "stream",
          "name": "stdout",
          "text": [
            "Büyücü olmaya yakın\n"
          ]
        }
      ]
    },
    {
      "cell_type": "markdown",
      "source": [
        "# **FOR LOOPS ( FOR DÖNGÜSÜ )**"
      ],
      "metadata": {
        "id": "uQGhi8FllaM6"
      }
    },
    {
      "cell_type": "markdown",
      "source": [
        "* Döngüler ile yazdığımız kodları listeleyebilir ve istediğimiz kadar çalıştırabiliriz.\n",
        "* For döngüsü değişkenlerin içerisin de tek tek gezinir ve ekrana yazdırır"
      ],
      "metadata": {
        "id": "5GGgTyQvnNGq"
      }
    },
    {
      "cell_type": "code",
      "source": [
        "for i in \"python\":\n",
        "  print(i)\n",
        "\n",
        "# for döngüsü kullanarak \"python\" üzerinde tek tek gezindik"
      ],
      "metadata": {
        "colab": {
          "base_uri": "https://localhost:8080/"
        },
        "id": "6JRKJ8iMnedu",
        "outputId": "374ed720-78b7-4deb-f486-55c124e1e495"
      },
      "execution_count": null,
      "outputs": [
        {
          "output_type": "stream",
          "name": "stdout",
          "text": [
            "p\n",
            "y\n",
            "t\n",
            "h\n",
            "o\n",
            "n\n"
          ]
        }
      ]
    },
    {
      "cell_type": "code",
      "source": [
        "for i in \"python\":\n",
        "  for x in [1,2,3]:\n",
        "    print(i,x)\n",
        "\n",
        "# for döngüsünü iç içe olarak da kullanabiliriz"
      ],
      "metadata": {
        "colab": {
          "base_uri": "https://localhost:8080/"
        },
        "id": "aVY3XsvZnig9",
        "outputId": "e70e14f4-0350-42a3-f252-2fba14d9bfb8"
      },
      "execution_count": null,
      "outputs": [
        {
          "output_type": "stream",
          "name": "stdout",
          "text": [
            "p 1\n",
            "p 2\n",
            "p 3\n",
            "y 1\n",
            "y 2\n",
            "y 3\n",
            "t 1\n",
            "t 2\n",
            "t 3\n",
            "h 1\n",
            "h 2\n",
            "h 3\n",
            "o 1\n",
            "o 2\n",
            "o 3\n",
            "n 1\n",
            "n 2\n",
            "n 3\n"
          ]
        }
      ]
    },
    {
      "cell_type": "markdown",
      "source": [
        "* Aslında for döngüsün de tek tek gezinmemizin anlamı iterable olması yani for döngüsü içerisinde ki öğelere sırasıyla erişebilmek anlamına gelir\n",
        "* for döngüsünü kullanarak list, set, tuple, dictionary ve stringler üzerinde iterasyon yapabiliriz"
      ],
      "metadata": {
        "id": "XSmOrh0BoXxY"
      }
    },
    {
      "cell_type": "code",
      "source": [
        "user={\n",
        "    'name':'Sam',\n",
        "    'password':'123',\n",
        "    'mail':'sam@mail.com'\n",
        "}\n",
        "\n",
        "\n",
        "for i in user.items():\n",
        "  print(i)\n",
        "\n",
        "print(\"################\")\n",
        "\n",
        "for i in user.keys():\n",
        "  print(i)\n",
        "\n",
        "print(\"################\")\n",
        "\n",
        "for i in user.values():\n",
        "  print(i)\n",
        "\n",
        "\n",
        "print(\"################\")\n",
        "\n",
        "for k,v in user.items():\n",
        "  print(k,v)\n",
        "\n",
        "# for döngüsü kullanarak sözlükler üzerinde de gezinebiliriz\n",
        "# sözlükler üzerinde gezinebilmek için methodlarını kullanırız\n",
        "# son for döngüsün de key ve value almak için ikisini birlikte yazarız"
      ],
      "metadata": {
        "colab": {
          "base_uri": "https://localhost:8080/"
        },
        "id": "lunvbxkJo1WG",
        "outputId": "3be18995-829c-4a7a-e5e3-2627dc33e4e0"
      },
      "execution_count": null,
      "outputs": [
        {
          "output_type": "stream",
          "name": "stdout",
          "text": [
            "('name', 'Sam')\n",
            "('password', '123')\n",
            "('mail', 'sam@mail.com')\n",
            "################\n",
            "name\n",
            "password\n",
            "mail\n",
            "################\n",
            "Sam\n",
            "123\n",
            "sam@mail.com\n",
            "################\n",
            "name Sam\n",
            "password 123\n",
            "mail sam@mail.com\n"
          ]
        }
      ]
    },
    {
      "cell_type": "code",
      "source": [
        "my_list=[1,2,3,4,5]\n",
        "toplam=0\n",
        "\n",
        "for i in my_list:\n",
        "  toplam+=i\n",
        "print(toplam)\n",
        "\n",
        "# liste ve toplam değişkeni oluşturduk\n",
        "# for döngüsünün liste içinde tek tek gezinip\n",
        "# tek tek  toplama yapmasını sağladık"
      ],
      "metadata": {
        "colab": {
          "base_uri": "https://localhost:8080/"
        },
        "id": "6fBvYTW_qTpr",
        "outputId": "3ab8405c-3ce0-42fd-f143-aa936fc7be6a"
      },
      "execution_count": null,
      "outputs": [
        {
          "output_type": "stream",
          "name": "stdout",
          "text": [
            "15\n"
          ]
        }
      ]
    },
    {
      "cell_type": "markdown",
      "source": [
        "* for döngüsün de kullanabileceğimiz bir fonksiyon da range() fonksiyonudur.\n",
        "* range() fonksiyonunu kullanarak bir aralık belirtebiliriz"
      ],
      "metadata": {
        "id": "6M6xvwFbyPhV"
      }
    },
    {
      "cell_type": "code",
      "source": [
        "for i in range(0,10):\n",
        "  print(i)\n",
        "\n",
        "# 0-10 arasında ki sayıları yazdırdık"
      ],
      "metadata": {
        "colab": {
          "base_uri": "https://localhost:8080/"
        },
        "id": "tRyc2BCeychl",
        "outputId": "34ed96b7-4fdf-47eb-c635-371421a3c8e2"
      },
      "execution_count": null,
      "outputs": [
        {
          "output_type": "stream",
          "name": "stdout",
          "text": [
            "0\n",
            "1\n",
            "2\n",
            "3\n",
            "4\n",
            "5\n",
            "6\n",
            "7\n",
            "8\n",
            "9\n"
          ]
        }
      ]
    },
    {
      "cell_type": "code",
      "source": [
        "for i in range(3):\n",
        "  print(list(range(0,10)))\n",
        "\n",
        "# liste kullanarak 0-10 sayılarını 3 kere yazdırdık"
      ],
      "metadata": {
        "colab": {
          "base_uri": "https://localhost:8080/"
        },
        "id": "I7MY18NEyg3n",
        "outputId": "d78c7620-f94d-4f75-ba6a-d78c8f601c13"
      },
      "execution_count": null,
      "outputs": [
        {
          "output_type": "stream",
          "name": "stdout",
          "text": [
            "[0, 1, 2, 3, 4, 5, 6, 7, 8, 9]\n",
            "[0, 1, 2, 3, 4, 5, 6, 7, 8, 9]\n",
            "[0, 1, 2, 3, 4, 5, 6, 7, 8, 9]\n"
          ]
        }
      ]
    },
    {
      "cell_type": "code",
      "source": [
        "my_list=[\"hello\",\"python\",\"world\"]\n",
        "\n",
        "for i,h in enumerate(my_list):\n",
        "  print(i,h)\n",
        "\n",
        "# enumerate fonksiyonu kullanarak for döngüsü ile indeksleme yapabiliriz"
      ],
      "metadata": {
        "colab": {
          "base_uri": "https://localhost:8080/"
        },
        "id": "UfVZTtpCytzi",
        "outputId": "4a88919a-d5ad-44bf-c622-fd1691df6741"
      },
      "execution_count": null,
      "outputs": [
        {
          "output_type": "stream",
          "name": "stdout",
          "text": [
            "0 hello\n",
            "1 python\n",
            "2 world\n"
          ]
        }
      ]
    },
    {
      "cell_type": "code",
      "source": [
        "for i,h in enumerate(list(range(10))):\n",
        "\n",
        "  if i==5:\n",
        "    print(f\"{i} değeri {h}. indekste bulunur\")\n"
      ],
      "metadata": {
        "colab": {
          "base_uri": "https://localhost:8080/"
        },
        "id": "K0hZjXi5zGCU",
        "outputId": "b59540ab-8363-445f-8c9e-ec014703593f"
      },
      "execution_count": null,
      "outputs": [
        {
          "output_type": "stream",
          "name": "stdout",
          "text": [
            "5 değeri 5. indekste bulunur\n"
          ]
        }
      ]
    },
    {
      "cell_type": "markdown",
      "source": [
        "# **WHİLE LOOPS (WHİLE DÖNGÜSÜ)**"
      ],
      "metadata": {
        "id": "DDT2-hDS2efz"
      }
    },
    {
      "cell_type": "markdown",
      "source": [
        "* While döngüsü for döngüsünden farklı olarak bir koşul sağlanana kadar devam eder"
      ],
      "metadata": {
        "id": "FK-o6ZP94bo4"
      }
    },
    {
      "cell_type": "code",
      "source": [
        "i=0\n",
        "\n",
        "while i < 10:\n",
        "  print(i)\n",
        "  i+=1\n",
        "\n",
        "# i 10 dan küçük olduğu sürece i değerini yazdırdık"
      ],
      "metadata": {
        "colab": {
          "base_uri": "https://localhost:8080/"
        },
        "id": "_IPANPEw4ira",
        "outputId": "3787f62e-39fa-45d0-b922-fce7fa5b25c6"
      },
      "execution_count": null,
      "outputs": [
        {
          "output_type": "stream",
          "name": "stdout",
          "text": [
            "0\n",
            "1\n",
            "2\n",
            "3\n",
            "4\n",
            "5\n",
            "6\n",
            "7\n",
            "8\n",
            "9\n"
          ]
        }
      ]
    },
    {
      "cell_type": "markdown",
      "source": [
        "* While ve For döngüsünün kullanılacağı yerler biraz farklı olabilir\n",
        "* Örneğin For döngüsü genellikle listeler gibi üzerinde gezinebileceğimiz veya basit işlemler yapabileceğimiz bir döngüdür.\n",
        "* While döngüsü ise kesinlik belirtmeyen ve karışık bir program da kullabılabilir."
      ],
      "metadata": {
        "id": "EoU_UdpT6MFd"
      }
    },
    {
      "cell_type": "code",
      "source": [
        "my_list=[1,2,3,4]\n",
        "\n",
        "for i in my_list:\n",
        "  print(i)\n",
        "\n",
        "# for döngüsü ile liste üzerinde gezindik"
      ],
      "metadata": {
        "colab": {
          "base_uri": "https://localhost:8080/"
        },
        "id": "a1mVckG86tZc",
        "outputId": "50840f4f-f60f-4980-f809-6bf94dbe740e"
      },
      "execution_count": null,
      "outputs": [
        {
          "output_type": "stream",
          "name": "stdout",
          "text": [
            "1\n",
            "2\n",
            "3\n",
            "4\n"
          ]
        }
      ]
    },
    {
      "cell_type": "code",
      "source": [
        "while True:\n",
        "  soru=input(\"Selam :\")\n",
        "  if soru==\"görüşürüz\":\n",
        "    break\n",
        "\n",
        "# While döngüsünü True kabul ettik\n",
        "# yani aksi bir sonuç olana kadar döngü çalışır\n",
        "# kullanıcıya \"görüşürüz\" demediğimiz sürece kod çalışacak"
      ],
      "metadata": {
        "colab": {
          "base_uri": "https://localhost:8080/"
        },
        "id": "V26z_bUR6055",
        "outputId": "526d18cf-0f96-4170-bc57-9bff5d2e2481"
      },
      "execution_count": null,
      "outputs": [
        {
          "name": "stdout",
          "output_type": "stream",
          "text": [
            "Selam :selam\n",
            "Selam :selam\n",
            "Selam :görüşürüz\n"
          ]
        }
      ]
    },
    {
      "cell_type": "markdown",
      "source": [
        "* While ve For döngüleri içerisinde kullandığımız bazı fonksiyonlar bulunur\n",
        "* break devam eden kodun kırılmasını sağlar\n",
        "* continue kod devam ederken başlangıca dönmemizi sağlar\n",
        "* pass ise henüz eksik olan kodun hata vermemesi için eklenir"
      ],
      "metadata": {
        "id": "KqaV4CbZ8mw1"
      }
    },
    {
      "cell_type": "markdown",
      "source": [
        "# **FUNCİTON ( FONKSİYONLAR )**"
      ],
      "metadata": {
        "id": "VdZZEpe4LfvF"
      }
    },
    {
      "cell_type": "markdown",
      "source": [
        "* Fonksiyonlar ile kod tekrarı yapmaktan kurtuluruz ve istediğimiz kodları tek bir satırda çalıştırabiliriz\n",
        "* Örneğin wwhile veya for döngüsü kullandığımız bir kodumuz var ve biz bunu birkaç yerde kullanmak istiyoruz tekrar etmek yerine fonksiyon oluşturup içerisine yazabiliriz"
      ],
      "metadata": {
        "id": "vphTVioaNg-A"
      }
    },
    {
      "cell_type": "code",
      "source": [
        "def giris():\n",
        "\n",
        "  while True:\n",
        "    print('''\n",
        "\n",
        "    1.Giriş yap (1)\n",
        "    2.Çıkış (2)\n",
        "\n",
        "    ''')\n",
        "\n",
        "    user=input('Seçim :')\n",
        "\n",
        "    if user=='1':\n",
        "       user_name=input('İsim :')\n",
        "       password=input('Şifre :')\n",
        "       break\n",
        "    else:\n",
        "      print('Çıkış yapılıyor....')\n",
        "      break\n",
        "\n",
        "# giris() adın da bir fonksiyon oluşturduk.\n",
        "# fonksiyon içerisine kullanıcının yapmak istediklerini yazdık\n",
        "\n",
        "giris()\n",
        "# giris() fonksiyonunu her çağırdığımızda içerisindeki kodlar gelir\n",
        "# fonskiyon sayesinde tek satırda kodları yazdırırız"
      ],
      "metadata": {
        "colab": {
          "base_uri": "https://localhost:8080/"
        },
        "id": "qiPO0qYfN5m2",
        "outputId": "b0d0ace0-e354-45bc-9de4-d899f18bd0d1"
      },
      "execution_count": null,
      "outputs": [
        {
          "name": "stdout",
          "output_type": "stream",
          "text": [
            "\n",
            "\n",
            "    1.Giriş yap (1)\n",
            "    2.Çıkış (2)\n",
            "    \n",
            "    \n",
            "Seçim :1\n",
            "İsim :emre\n",
            "Şifre :1234\n"
          ]
        }
      ]
    },
    {
      "cell_type": "markdown",
      "source": [
        "* **ARGUMENTS - PARAMTERS (ARGÜMANLAR VE PARAMETRELER)**"
      ],
      "metadata": {
        "id": "0NDyO4fwPRDw"
      }
    },
    {
      "cell_type": "markdown",
      "source": [
        "* Parametreler fonksiyon içerisin de değişkenler olarak da görülebilir\n",
        "* Parantez içerisine gerektiği kadar parametre yazabilir\n",
        "* Parametreler çağrılırken Argümanlar kullanılır\n",
        "* Argümanlar parametrelere karşılık gelen değerlerdir"
      ],
      "metadata": {
        "id": "_LORri3Q5lt3"
      }
    },
    {
      "cell_type": "code",
      "source": [
        "def say_hello(name, emoji):\n",
        "  print(f'Merhaba {name}, hoş geldin {emoji}')\n",
        "\n",
        "say_hello('Emre', ':)')\n",
        "\n",
        "# say_hello fonksiyonu içerisine name ve emoji adın da iki parametre yazdım\n",
        "# parametreleri çağırırken fonksiyon içerisin de argümanlar kullandım"
      ],
      "metadata": {
        "colab": {
          "base_uri": "https://localhost:8080/"
        },
        "id": "GP2HI5Xr57p0",
        "outputId": "b3834d20-43eb-4538-ec05-036108ed1988"
      },
      "execution_count": null,
      "outputs": [
        {
          "output_type": "stream",
          "name": "stdout",
          "text": [
            "Merhaba Emre, hoş geldin :)\n"
          ]
        }
      ]
    },
    {
      "cell_type": "markdown",
      "source": [
        "* **RETURN**"
      ],
      "metadata": {
        "id": "lvzoaXMv8A-i"
      }
    },
    {
      "cell_type": "markdown",
      "source": [
        "* Fonksiyonları kullanırken genellikle fonksiyon içerisin de değeri döndürebilmek için return kullanılır"
      ],
      "metadata": {
        "id": "GQvxZG59_fgN"
      }
    },
    {
      "cell_type": "code",
      "source": [
        "def total(num1,num2):\n",
        "  return num1+num2\n",
        "\n",
        "total(5,4)\n",
        "\n",
        "# fonksiyon içerisinde num1 ve num2 yi görmek için return kullanıyoruz\n",
        "# fonksiyon return ı gördükten sonra döndürmek için fonksiyondan çıkar"
      ],
      "metadata": {
        "colab": {
          "base_uri": "https://localhost:8080/"
        },
        "id": "bHtyyA-2_pd1",
        "outputId": "230c6fc3-586a-45f8-b7df-5cd75d4cf914"
      },
      "execution_count": null,
      "outputs": [
        {
          "output_type": "execute_result",
          "data": {
            "text/plain": [
              "9"
            ]
          },
          "metadata": {},
          "execution_count": 4
        }
      ]
    },
    {
      "cell_type": "markdown",
      "source": [
        "* **ALIŞTIRMA 3**"
      ],
      "metadata": {
        "id": "MKeyg9iXAfzG"
      }
    },
    {
      "cell_type": "code",
      "source": [
        "def checkDriverAge():\n",
        "  age = input(\"What is your age?: \")\n",
        "\n",
        "  if int(age) < 18:\n",
        "\t  print(\"Sorry, you are too young to drive this car. Powering off\")\n",
        "  elif int(age) > 18:\n",
        "\t  print(\"Powering On. Enjoy the ride!\");\n",
        "  elif int(age) == 18:\n",
        "\t  print(\"Congratulations on your first year of driving. Enjoy the ride!\")\n",
        "\n",
        "checkDriverAge()\n",
        "\n"
      ],
      "metadata": {
        "colab": {
          "base_uri": "https://localhost:8080/"
        },
        "id": "doByuCB_AosF",
        "outputId": "767bdd1d-8ae5-4942-d251-e14d3ca384fe"
      },
      "execution_count": null,
      "outputs": [
        {
          "output_type": "stream",
          "name": "stdout",
          "text": [
            "What is your age?: 18\n",
            "Congratulations on your first year of driving. Enjoy the ride!\n"
          ]
        }
      ]
    },
    {
      "cell_type": "code",
      "source": [
        "def checkDriverAge(age):\n",
        "\n",
        "\n",
        "  if int(age) < 18:\n",
        "\t  print(\"Sorry, you are too young to drive this car. Powering off\")\n",
        "  elif int(age) > 18:\n",
        "\t  print(\"Powering On. Enjoy the ride!\");\n",
        "  elif int(age) == 18:\n",
        "\t  print(\"Congratulations on your first year of driving. Enjoy the ride!\")\n",
        "\n",
        "checkDriverAge(30)\n",
        "\n",
        "# age değişkeni oluşturmak yerine fonksiyona parametre olarak verdik\n",
        "# argüman olrak ise yaşımızı yazdığımız da koşul çalışır"
      ],
      "metadata": {
        "colab": {
          "base_uri": "https://localhost:8080/"
        },
        "id": "ZZg2PWWpBXpR",
        "outputId": "89a0b760-fb61-4da0-d00b-f86c69b1d76d"
      },
      "execution_count": null,
      "outputs": [
        {
          "output_type": "stream",
          "name": "stdout",
          "text": [
            "Powering On. Enjoy the ride!\n"
          ]
        }
      ]
    },
    {
      "cell_type": "code",
      "source": [
        "def checkDriverAge(age=0):\n",
        "\n",
        "\n",
        "  if int(age) < 18:\n",
        "\t  print(\"Sorry, you are too young to drive this car. Powering off\")\n",
        "  elif int(age) > 18:\n",
        "\t  print(\"Powering On. Enjoy the ride!\");\n",
        "  elif int(age) == 18:\n",
        "\t  print(\"Congratulations on your first year of driving. Enjoy the ride!\")\n",
        "\n",
        "\n",
        "checkDriverAge()\n",
        "\n",
        "# hiçbir argüman verilmezse yaş varsayılan olarak sıfıra ayarlanır"
      ],
      "metadata": {
        "colab": {
          "base_uri": "https://localhost:8080/"
        },
        "id": "-mAFnoulBk9i",
        "outputId": "2576e609-95e0-4b12-f80e-8838022184c1"
      },
      "execution_count": null,
      "outputs": [
        {
          "output_type": "stream",
          "name": "stdout",
          "text": [
            "Sorry, you are too young to drive this car. Powering off\n"
          ]
        }
      ]
    },
    {
      "cell_type": "code",
      "source": [
        "def calc(num1=4,num2=2):\n",
        "\n",
        "    print('''\n",
        "    1.topla\n",
        "    2.çarp\n",
        "    3.böl\n",
        "    ''')\n",
        "    seçim=input('seçim:')\n",
        "\n",
        "    if seçim=='1':\n",
        "      return num1 + num2\n",
        "    elif seçim=='2':\n",
        "      return num1 * num2\n",
        "    elif seçim=='3':\n",
        "      return num1 // num2\n",
        "\n",
        "calc(32,4)\n",
        "\n",
        "# fonskiyon, parametre, argüman ve return gibi ifadeleri kullandık"
      ],
      "metadata": {
        "colab": {
          "base_uri": "https://localhost:8080/"
        },
        "id": "pcmO7KiGIXao",
        "outputId": "56753bb2-58c6-4af3-ce0f-e452b63cc40a"
      },
      "execution_count": null,
      "outputs": [
        {
          "name": "stdout",
          "output_type": "stream",
          "text": [
            "\n",
            "    1.topla\n",
            "    2.çarp\n",
            "    3.böl\n",
            "    \n",
            "seçim:2\n"
          ]
        },
        {
          "output_type": "execute_result",
          "data": {
            "text/plain": [
              "128"
            ]
          },
          "metadata": {},
          "execution_count": 17
        }
      ]
    },
    {
      "cell_type": "markdown",
      "source": [
        "* **DocString**\n",
        "* DocString fonksiyon içerisin de yazdığımız kodların ne işe yaradığını belirtmemize yarar ve kullanışlıdır\n",
        "* Fonksiyonu sonradan okuyan biri içerisinde bulunan kodun ne işe yaradığını anlayabilir"
      ],
      "metadata": {
        "id": "mMQ-N_AcL3Nj"
      }
    },
    {
      "cell_type": "code",
      "source": [
        "def test(a):\n",
        "\n",
        "  '''\n",
        "\n",
        "  Test bilgilerini içerir\n",
        "\n",
        "  '''\n",
        "\n",
        "  print(a)\n",
        "\n",
        "help(test)\n",
        "\n",
        "# fonksiyon içerisinde ki kodun ne işe yaradığını belirttik\n",
        "\n"
      ],
      "metadata": {
        "colab": {
          "base_uri": "https://localhost:8080/"
        },
        "id": "CTJn5mzrMMRi",
        "outputId": "63415c5d-cf33-4b85-bacc-d1e09a20a65d"
      },
      "execution_count": null,
      "outputs": [
        {
          "output_type": "stream",
          "name": "stdout",
          "text": [
            "Help on function test in module __main__:\n",
            "\n",
            "test(a)\n",
            "    Test bilgilerini içerir\n",
            "\n"
          ]
        }
      ]
    },
    {
      "cell_type": "code",
      "source": [
        "def test(a):\n",
        "\n",
        "  '''\n",
        "\n",
        "  Test bilgilerini içerir\n",
        "\n",
        "  '''\n",
        "\n",
        "  print(a)\n",
        "\n",
        "print(test.__doc__)\n",
        "\n",
        "# docstring in bir diğer kullanım yolu"
      ],
      "metadata": {
        "colab": {
          "base_uri": "https://localhost:8080/"
        },
        "id": "2KQmBVjZMhDz",
        "outputId": "ba00de6b-8ca9-4688-f613-e6be74efe453"
      },
      "execution_count": null,
      "outputs": [
        {
          "output_type": "stream",
          "name": "stdout",
          "text": [
            "\n",
            "\n",
            "  Test bilgilerini içerir\n",
            "\n",
            "  \n"
          ]
        }
      ]
    },
    {
      "cell_type": "code",
      "source": [
        "def is_even(num):\n",
        "  return num % 2 == 0\n",
        "\n",
        "is_even(51)\n",
        "\n",
        "# fonskiyon içiçnde sayının tek veya çift olma ihtimalini kontrol ettik\n",
        "# koşul kullanmak yerine sadece return u True veya False olarak döndürdük\n",
        "# kodumuzun temiz ve anlaşılır olmasını sağladık"
      ],
      "metadata": {
        "colab": {
          "base_uri": "https://localhost:8080/"
        },
        "id": "YgFPaTK4M4Yw",
        "outputId": "18143ac2-a868-4b59-84a6-476ee3fd21e8"
      },
      "execution_count": null,
      "outputs": [
        {
          "output_type": "execute_result",
          "data": {
            "text/plain": [
              "False"
            ]
          },
          "metadata": {},
          "execution_count": 24
        }
      ]
    },
    {
      "cell_type": "markdown",
      "source": [
        "* **(*args and kwargs)**\n",
        "\n",
        "* Fonksiyon da kullanabileceğimiz parametrelerdir\n",
        "* örneğin birden çok sayı ile işlem yapmak istiyoruz 3,4 veya daha fazla parametre yazmak yerine *args kullanabiliriz\n",
        "* anahtar değer ikilisini kullanmak istersek ise kwagrs ı kullanırız"
      ],
      "metadata": {
        "id": "MJrTNdUJRwTv"
      }
    },
    {
      "cell_type": "code",
      "source": [
        "def my_func(*args):\n",
        "  return sum(args)\n",
        "\n",
        "print(my_func(1,2,3))\n",
        "\n",
        "\n",
        "# fonksiyon içine *args yazarak birden çok parametre yazmaktan kurtulduk\n",
        "# fonksiyonu çağırdığımızda istediğimiz kadar argüman yazabiliriz\n"
      ],
      "metadata": {
        "colab": {
          "base_uri": "https://localhost:8080/"
        },
        "id": "sMOCmp4JSdLF",
        "outputId": "8a99e18b-fec9-4e93-afb0-7f89d8bc5b3d"
      },
      "execution_count": null,
      "outputs": [
        {
          "output_type": "stream",
          "name": "stdout",
          "text": [
            "6\n"
          ]
        }
      ]
    },
    {
      "cell_type": "code",
      "source": [
        "def my_func(*args,**kwargs):\n",
        "  total=0\n",
        "\n",
        "  for i in kwargs.values():\n",
        "    total+=i\n",
        "\n",
        "  return sum(args) + total\n",
        "\n",
        "print(my_func(1,2,3, num=1, num2=2))\n",
        "\n",
        "# kwargs ise anahtar değer ikilisi şeklinde oluşturmamıza yarar"
      ],
      "metadata": {
        "colab": {
          "base_uri": "https://localhost:8080/"
        },
        "id": "XjE9GWG9SsVf",
        "outputId": "d3f28c23-9544-4125-fe35-2b16f1035acf"
      },
      "execution_count": null,
      "outputs": [
        {
          "output_type": "stream",
          "name": "stdout",
          "text": [
            "9\n"
          ]
        }
      ]
    },
    {
      "cell_type": "markdown",
      "source": [
        "* **SCOPE (KAPSAM)**\n",
        "* Bir fonksiyon çağrılmadıkça içerisinde ki kodlar kullanılamaz\n",
        "* Yani sadece o fonksiyona aittirler buna da scope (kapsam) diyebiliriz"
      ],
      "metadata": {
        "id": "irpqFcM_gz1N"
      }
    },
    {
      "cell_type": "code",
      "source": [
        "def my_scope():\n",
        "\n",
        "  x='Hello'\n",
        "\n",
        "# print(x)\n",
        "# x i çağırmaya çalışırsak hata alırız\n",
        "# yapmamız gereken şey fonskiyonu çağırmak ve içindekilere erişmektir"
      ],
      "metadata": {
        "id": "NAxeU5rehSQV"
      },
      "execution_count": null,
      "outputs": []
    },
    {
      "cell_type": "code",
      "source": [
        "a=0\n",
        "\n",
        "\n",
        "def my_func():\n",
        "  global a\n",
        "  a+=1\n",
        "  return a\n",
        "\n",
        "print(my_func())\n",
        "\n",
        "# dışardan bir değişkeni çağırabilmek için global keyword u kullanabiliriz"
      ],
      "metadata": {
        "colab": {
          "base_uri": "https://localhost:8080/"
        },
        "id": "kCjAL4J9hcQX",
        "outputId": "972534f8-1181-4729-a43c-414a5df809d2"
      },
      "execution_count": null,
      "outputs": [
        {
          "output_type": "stream",
          "name": "stdout",
          "text": [
            "1\n"
          ]
        }
      ]
    },
    {
      "cell_type": "code",
      "source": [
        "def outer():\n",
        "  x='local'\n",
        "  def inner():\n",
        "    nonlocal x\n",
        "    x='nonlocal'\n",
        "    print('inner :',x)\n",
        "  inner()\n",
        "  print('outer:',x)\n",
        "\n",
        "outer()\n",
        "\n",
        "# nonlocal keywordünü kullandık\n",
        "# önceki fonksiyonun değişkenine eriştirk ve değiştirdik\n",
        "# değiştirdiğimiz değişken hem outer() hem de inner() fonksiyonlarını etkiler"
      ],
      "metadata": {
        "colab": {
          "base_uri": "https://localhost:8080/"
        },
        "id": "fJHldkHXlEEf",
        "outputId": "f348cb9a-205b-4580-b9d1-d9bf48cc22bb"
      },
      "execution_count": null,
      "outputs": [
        {
          "output_type": "stream",
          "name": "stdout",
          "text": [
            "inner : nonlocal\n",
            "outer: nonlocal\n"
          ]
        }
      ]
    },
    {
      "cell_type": "markdown",
      "source": [
        "* **PURE FUNCTİONS ( SAF FONKSİYON )**\n",
        "* Saf bir fonksiyon da girdi olarak verilen kodun her zaman aynı çıktı ile çıkması beklenir. Yani [1,2,3] şeklinde liste olarak verdiğim girdiyi fonksiyon içerisin de 2 ile çarparken her zaman [2,4,6] sonucunu bekleriz\n",
        "* Diğer bir durum ise fonksiyon içerisin de dış dünyaya etki edecek şeylerin bulunmaması gerektiğidir"
      ],
      "metadata": {
        "id": "omfevUvTqtVH"
      }
    },
    {
      "cell_type": "code",
      "source": [
        "def çarp(list):\n",
        "  new_list=[]\n",
        "\n",
        "  for i in list:\n",
        "    new_list.append(i*2)\n",
        "  return new_list\n",
        "\n",
        "print(çarp([1,2,3]))\n",
        "\n",
        "# çarpma işleminin yapıldığı bir fonksiyon\n",
        "# fonksiyona [1,2,3] değerini verdik\n",
        "# ve sonuç olarak her zaman [2,4,6] sonucu çıkmalı\n",
        "# fonksiyonun dış dünyayla etki etmemesi önemlidir\n",
        "# fonksiyonun içinde olanlar fonksiyonun içinde kalır\n",
        "# fonksiyon içerisine yazılan print bile saf fonksiyon olmasını etkiler\n",
        "# her zaman saf fonksiyonlar oluşturamasak da saf fonksiyonların önemi büyüktür"
      ],
      "metadata": {
        "colab": {
          "base_uri": "https://localhost:8080/"
        },
        "id": "wv-5wN_6rzVY",
        "outputId": "14afc6d7-a55e-4b4e-a9d2-27d6836dbb26"
      },
      "execution_count": null,
      "outputs": [
        {
          "output_type": "stream",
          "name": "stdout",
          "text": [
            "[2, 4, 6]\n"
          ]
        }
      ]
    },
    {
      "cell_type": "markdown",
      "source": [
        "* **map, filter, zip, reduce**"
      ],
      "metadata": {
        "id": "wjonZF4Ky4Mh"
      }
    },
    {
      "cell_type": "markdown",
      "source": [
        "* **map**"
      ],
      "metadata": {
        "id": "1QVfixLq2zHv"
      }
    },
    {
      "cell_type": "code",
      "source": [
        "def çarp(item):\n",
        "  return item*2\n",
        "\n",
        "print(list(map(çarp,[1,2,3])))\n",
        "\n",
        "# map kullandık\n",
        "# for döngüsünün kısaltılmış ve işimize gelen hali diyebiliriz"
      ],
      "metadata": {
        "colab": {
          "base_uri": "https://localhost:8080/"
        },
        "id": "ufb8l7Eny_cu",
        "outputId": "ea63fbd2-82af-4b1e-e458-d45457713ba8"
      },
      "execution_count": null,
      "outputs": [
        {
          "output_type": "stream",
          "name": "stdout",
          "text": [
            "[2, 4, 6]\n"
          ]
        }
      ]
    },
    {
      "cell_type": "code",
      "source": [
        "def kare_al(list):\n",
        "  new_list=[]\n",
        "  for i in list:\n",
        "    new_list.append(i**2)\n",
        "  return new_list\n",
        "\n",
        "print(kare_al([1,2,3,4]))\n",
        "\n",
        "# fonksiyon içinde for döngüsü kullandık\n",
        "# listenin içerisinde ki sayıları aldık"
      ],
      "metadata": {
        "colab": {
          "base_uri": "https://localhost:8080/"
        },
        "id": "Zl5M5EQY1Hko",
        "outputId": "68227793-0ed9-4124-ae86-ecfc0dccde34"
      },
      "execution_count": null,
      "outputs": [
        {
          "output_type": "stream",
          "name": "stdout",
          "text": [
            "[1, 4, 9, 16]\n"
          ]
        }
      ]
    },
    {
      "cell_type": "code",
      "source": [
        "def kare_al(item):\n",
        "  return item**2\n",
        "\n",
        "print(list(map(kare_al,[1,2,3,4])))\n",
        "\n",
        "# map kullanarak aynı fonksiyon da kare aldık"
      ],
      "metadata": {
        "colab": {
          "base_uri": "https://localhost:8080/"
        },
        "id": "DUIUu-PI2QkJ",
        "outputId": "a7d86677-78e7-43ef-ecde-3a276086e571"
      },
      "execution_count": null,
      "outputs": [
        {
          "output_type": "stream",
          "name": "stdout",
          "text": [
            "[1, 4, 9, 16]\n"
          ]
        }
      ]
    },
    {
      "cell_type": "markdown",
      "source": [
        "* **filter**"
      ],
      "metadata": {
        "id": "czb9fasj23Ii"
      }
    },
    {
      "cell_type": "code",
      "source": [
        "def tek(list):\n",
        "\n",
        "  new_list=[]\n",
        "  for i in list:\n",
        "    if i % 2 != 0:\n",
        "      new_list.append(i)\n",
        "  return new_list\n",
        "\n",
        "print(tek([1,2,3,4,5]))\n",
        "\n",
        "# burada çift olan sayıları eledik\n",
        "# tek sayıları yazdırab bir fonksiyon oluşturduk"
      ],
      "metadata": {
        "colab": {
          "base_uri": "https://localhost:8080/"
        },
        "id": "6hVNo2eG25be",
        "outputId": "26fc9f84-a2ea-4918-c025-3d420f9fc22d"
      },
      "execution_count": null,
      "outputs": [
        {
          "output_type": "stream",
          "name": "stdout",
          "text": [
            "[1, 3, 5]\n"
          ]
        }
      ]
    },
    {
      "cell_type": "code",
      "source": [
        "def tek(item):\n",
        "  return item % 2 != 0\n",
        "\n",
        "print(list(filter(tek,[1,2,3,4,5])))\n",
        "\n",
        "# aynı fonksiyonu filter kullanarak oluşturduk"
      ],
      "metadata": {
        "colab": {
          "base_uri": "https://localhost:8080/"
        },
        "id": "ifjU3SJo4pKT",
        "outputId": "3ed84683-f10a-48b6-f9a0-f62109ff7da1"
      },
      "execution_count": null,
      "outputs": [
        {
          "output_type": "stream",
          "name": "stdout",
          "text": [
            "[1, 3, 5]\n"
          ]
        }
      ]
    },
    {
      "cell_type": "markdown",
      "source": [
        "* **zip**"
      ],
      "metadata": {
        "id": "gjXBb4Ri545C"
      }
    },
    {
      "cell_type": "code",
      "source": [
        "liste1=[1,3,5]\n",
        "liste2=[2,4,6]\n",
        "\n",
        "print(list(zip(liste1,liste2)))\n",
        "\n",
        "# zip iki listeyi biirleştirmemize yarar"
      ],
      "metadata": {
        "colab": {
          "base_uri": "https://localhost:8080/"
        },
        "id": "W8qvAnIW57L3",
        "outputId": "57426b82-e684-41fd-9245-e26d04d476db"
      },
      "execution_count": null,
      "outputs": [
        {
          "output_type": "stream",
          "name": "stdout",
          "text": [
            "[(1, 2), (3, 4), (5, 6)]\n"
          ]
        }
      ]
    },
    {
      "cell_type": "markdown",
      "source": [
        "* **reduce**"
      ],
      "metadata": {
        "id": "WMpsLiG-8hEk"
      }
    },
    {
      "cell_type": "code",
      "source": [
        "from functools import reduce\n",
        "\n",
        "my_list=[1,2,3,4]\n",
        "\n",
        "def deneme(dnm, item):\n",
        "\n",
        "  print(dnm, item)\n",
        "  return dnm + item\n",
        "\n",
        "print(reduce(deneme,my_list))\n",
        "\n",
        "# reduce oluşturduğumuz liste içerisinde karşılaştırma yapmamıza ve azaltarak\n",
        "# dolaşmamıza yarar\n",
        "\n",
        "# reduce kullanmadan önce from functools import reduce şeklinde import ederiz"
      ],
      "metadata": {
        "colab": {
          "base_uri": "https://localhost:8080/"
        },
        "id": "keK53zOh8j1o",
        "outputId": "9c325db5-7fd6-48f0-e38c-0434800aa4d4"
      },
      "execution_count": null,
      "outputs": [
        {
          "output_type": "stream",
          "name": "stdout",
          "text": [
            "1 2\n",
            "3 3\n",
            "6 4\n",
            "10\n"
          ]
        }
      ]
    },
    {
      "cell_type": "code",
      "source": [
        "from functools import reduce\n",
        "\n",
        "\n",
        "my_list=[1,3,4,6,7,100]\n",
        "\n",
        "\n",
        "def deneme(a,b):\n",
        "  if a > b:\n",
        "    return a\n",
        "  return b\n",
        "\n",
        "print(reduce(deneme,my_list))"
      ],
      "metadata": {
        "colab": {
          "base_uri": "https://localhost:8080/"
        },
        "id": "P6pXfP6x-8YQ",
        "outputId": "60467906-2d47-4c80-db2c-2de5ebc0f688"
      },
      "execution_count": null,
      "outputs": [
        {
          "output_type": "stream",
          "name": "stdout",
          "text": [
            "100\n"
          ]
        }
      ]
    },
    {
      "cell_type": "code",
      "source": [
        "my_list=[1,2,3,4,5]\n",
        "\n",
        "def deneme(dnm, item):\n",
        "\n",
        "  print(dnm,item)\n",
        "  return dnm*item\n",
        "\n",
        "print(reduce(deneme,my_list))"
      ],
      "metadata": {
        "colab": {
          "base_uri": "https://localhost:8080/"
        },
        "id": "wzqkLCMx_hVN",
        "outputId": "8cd09133-81cc-4084-c4e0-61d8c061d963"
      },
      "execution_count": null,
      "outputs": [
        {
          "output_type": "stream",
          "name": "stdout",
          "text": [
            "1 2\n",
            "2 3\n",
            "6 4\n",
            "24 5\n",
            "120\n"
          ]
        }
      ]
    },
    {
      "cell_type": "markdown",
      "source": [
        "# **LİST COMPREHENSİONS**"
      ],
      "metadata": {
        "id": "jTKZiIzbcdjh"
      }
    },
    {
      "cell_type": "markdown",
      "source": [
        "* For döngüsü ile yazılan kodu daha anlaşılır ve temiz bir şekil de List Comprehensions kullanarak oluşturabiliriz"
      ],
      "metadata": {
        "id": "cX7EEUTQ7I3z"
      }
    },
    {
      "cell_type": "code",
      "source": [
        "my_list=[]\n",
        "\n",
        "for i in 'hello':\n",
        "  my_list.append(i)\n",
        "\n",
        "print(my_list)"
      ],
      "metadata": {
        "colab": {
          "base_uri": "https://localhost:8080/"
        },
        "id": "El7maSsc7XPq",
        "outputId": "ce5ed9e9-e7ed-46fb-c827-3cdefa3cc6f4"
      },
      "execution_count": 2,
      "outputs": [
        {
          "output_type": "stream",
          "name": "stdout",
          "text": [
            "['h', 'e', 'l', 'l', 'o']\n"
          ]
        }
      ]
    },
    {
      "cell_type": "code",
      "source": [
        "my_list=[i for i in 'hello']\n",
        "\n",
        "print(my_list)\n",
        "\n",
        "# yukarıda yaptığımız for döngüsünün aynısı oluşturduk\n",
        "# list comprehensions yapısı daha temiz ve anlaşılır şekilde yazıldı"
      ],
      "metadata": {
        "colab": {
          "base_uri": "https://localhost:8080/"
        },
        "id": "8lSXkIKb7h1a",
        "outputId": "3274b8da-2276-4f93-b5a9-cbde4b61f64f"
      },
      "execution_count": 3,
      "outputs": [
        {
          "output_type": "stream",
          "name": "stdout",
          "text": [
            "['h', 'e', 'l', 'l', 'o']\n"
          ]
        }
      ]
    },
    {
      "cell_type": "code",
      "source": [
        "my_list2=[num**2 for num in range(0,20) if num % 2 ==0]\n",
        "\n",
        "print(my_list2)\n",
        "\n",
        "# list comprehensions içerisine koş ekledik\n",
        "# for döngüsünden sonra eklediğimiz koşula çıktı aldık"
      ],
      "metadata": {
        "colab": {
          "base_uri": "https://localhost:8080/"
        },
        "id": "RfEjPZEf7p46",
        "outputId": "e81432cd-3363-4acc-8f65-96a2acc373ae"
      },
      "execution_count": 6,
      "outputs": [
        {
          "output_type": "stream",
          "name": "stdout",
          "text": [
            "[0, 4, 16, 36, 64, 100, 144, 196, 256, 324]\n"
          ]
        }
      ]
    },
    {
      "cell_type": "markdown",
      "source": [
        "* **Dictionary Comprehensions**"
      ],
      "metadata": {
        "id": "-EFDr-HY-z0u"
      }
    },
    {
      "cell_type": "code",
      "source": [
        "my_dıct={\n",
        "    'a':1,\n",
        "    'b':2\n",
        "}\n",
        "\n",
        "\n",
        "dıct={key:value*2 for key,value in my_dıct.items()}\n",
        "\n",
        "print(dıct)\n",
        "\n",
        "# list comprehensions mantığına benzer\n",
        "# anahtar değer üzerinde işlemler yaparız"
      ],
      "metadata": {
        "colab": {
          "base_uri": "https://localhost:8080/"
        },
        "id": "f78Idvzg-7ei",
        "outputId": "47d37638-f003-4ee6-a1a9-e4c4deb86c68"
      },
      "execution_count": 8,
      "outputs": [
        {
          "output_type": "stream",
          "name": "stdout",
          "text": [
            "{'a': 2, 'b': 4}\n"
          ]
        }
      ]
    },
    {
      "cell_type": "markdown",
      "source": [
        "* **ALIŞTIRMA 4**"
      ],
      "metadata": {
        "id": "469Bio1HEK5n"
      }
    },
    {
      "cell_type": "code",
      "source": [
        "some_list = ['a', 'b', 'c', 'b', 'd', 'm', 'n', 'n']\n",
        "\n",
        "duplicates = {value for value in some_list if some_list.count(value) > 1}\n",
        "\n",
        "print(duplicates)\n",
        "\n",
        "# set comprehensions kullandık\n",
        "# some_list içerisinde tekrar eden harfleri yazdırdık\n"
      ],
      "metadata": {
        "colab": {
          "base_uri": "https://localhost:8080/"
        },
        "id": "2w5_fUS0EVS8",
        "outputId": "743216be-03d5-47f0-e8b0-3aa68a565588"
      },
      "execution_count": 19,
      "outputs": [
        {
          "output_type": "stream",
          "name": "stdout",
          "text": [
            "{'b', 'n'}\n"
          ]
        }
      ]
    },
    {
      "cell_type": "markdown",
      "source": [
        "# **MODULES İN  PYTHON**"
      ],
      "metadata": {
        "id": "E3Xx8wqXMCtp"
      }
    },
    {
      "cell_type": "markdown",
      "source": [
        "* Gerçek hayat projelerinde yüzlerce satır veya daha fazla kod u bir dosya içerisinde tutmak bir hata olur\n",
        "* Bunun yerine module denilen yapıyı kullanırız\n",
        "* Bu yapı ana dosyanın etrafın da oluşturulan diğer yardımcı dosyalarak olarak adlandırılabilir\n",
        "* Örneğin main.py adın da bir ana dosyam var asıl kodlarımı oraya yazıp diğer ayrıntıları da başka .py uzantılı dosyalar da oluştururuz\n",
        "* Ana dosya da oluşturduğumuz kodları aktif hale getirebilmek için import ile içe aktarma yaparız yani import dosya adı şeklin de kullanmak istediğimiz dosyayı kullanırız"
      ],
      "metadata": {
        "id": "E3FehyE7MMCm"
      }
    }
  ]
}