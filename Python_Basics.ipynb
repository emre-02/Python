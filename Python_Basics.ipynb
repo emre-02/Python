{
  "nbformat": 4,
  "nbformat_minor": 0,
  "metadata": {
    "colab": {
      "provenance": [],
      "authorship_tag": "ABX9TyOFyUMHkbR3SUURpK5W76Y4"
    },
    "kernelspec": {
      "name": "python3",
      "display_name": "Python 3"
    },
    "language_info": {
      "name": "python"
    }
  },
  "cells": [
    {
      "cell_type": "markdown",
      "source": [
        " * Python diğer programlama dilleri gibi bilgisayara yaptırmak istediklerimizi anlattığımız bir programlama dilidir.\n",
        "  Kodlarımızı yazarız ve arkaplanda söylemek istediklerimizi bilgisayara ileten bir sanal makine bulunur ve en sonun da bu makine ekrana istediklerimizi yazdırır."
      ],
      "metadata": {
        "id": "Am5iXSFhkcNt"
      }
    },
    {
      "cell_type": "markdown",
      "source": [
        "* Python da ekrana birşeyler yazdırmak istersek print() fonksiyonunu kullanırız\n",
        "\n"
      ],
      "metadata": {
        "id": "QrwyHxodk1Kz"
      }
    },
    {
      "cell_type": "code",
      "source": [
        "print(\"Emre\")"
      ],
      "metadata": {
        "colab": {
          "base_uri": "https://localhost:8080/"
        },
        "id": "4JD2_3xPaNxq",
        "outputId": "2ba70dd8-bf31-4111-de63-4b0a038aeb12"
      },
      "execution_count": null,
      "outputs": [
        {
          "output_type": "stream",
          "name": "stdout",
          "text": [
            "Emre\n"
          ]
        }
      ]
    },
    {
      "cell_type": "markdown",
      "source": [
        "* Kullanıcının girişini sağlayan bir diğer fonksiyon ise input() fonksiyonudur. Etkileşimli bir kod yazmak istersek bu fonksiyonu kullanabiliriz\n",
        "\n"
      ],
      "metadata": {
        "id": "SIjn3jUglHcg"
      }
    },
    {
      "cell_type": "code",
      "source": [
        "isim=input(\"İsminizi Giriniz:\")\n",
        "print(isim)"
      ],
      "metadata": {
        "colab": {
          "base_uri": "https://localhost:8080/"
        },
        "id": "O-49h2MvbjWC",
        "outputId": "dc849a05-4dd6-4659-ea3d-777180bb974f"
      },
      "execution_count": null,
      "outputs": [
        {
          "output_type": "stream",
          "name": "stdout",
          "text": [
            "İsminizi Giriniz:Emre\n",
            "Emre\n"
          ]
        }
      ]
    },
    {
      "cell_type": "markdown",
      "source": [
        "* İnput() fonksiyonu ile girilen ismin bir değişken de tutulabilmesi için isim adında bir değişken oluşturduk.\n",
        "* Girilen isim değişken de tutulur ve print() fonksiyonu ile ekrana yazdırılır."
      ],
      "metadata": {
        "id": "HdmscAOxlMh8"
      }
    },
    {
      "cell_type": "markdown",
      "source": [
        "# **DATA TYPES ( VERİ TİPLERİ )**"
      ],
      "metadata": {
        "id": "HI5C22MPvCSW"
      }
    },
    {
      "cell_type": "markdown",
      "source": [],
      "metadata": {
        "id": "g_jQV8ie69p1"
      }
    },
    {
      "cell_type": "markdown",
      "source": [],
      "metadata": {
        "id": "97qaO09v6-ef"
      }
    },
    {
      "cell_type": "markdown",
      "source": [
        "* Python da ilk olarak Fundamental yani temel veri tipleri karşımıza çıkar bunlar; int, float, string, bool, list, tuple, set, dict olarak bilinirler\n",
        "\n",
        "* İlerleyen bölümler de karşımıza Class ve özel veri tiplerini içeren veri tipleri ile de karşılaşacağız."
      ],
      "metadata": {
        "id": "kKzwpS8dnQ7O"
      }
    },
    {
      "cell_type": "markdown",
      "source": [
        "* int tam sayı anlamına gelir integer olarak bilinir. Float ise ondalıklı sayıları temsil eder. int e örnek olarak 1 float a örnek olarak ise 1.2 yi verebiliriz."
      ],
      "metadata": {
        "id": "PhkLW23Wusx6"
      }
    },
    {
      "cell_type": "code",
      "source": [
        "tam_sayı=1\n",
        "ondalıklı_sayı=1.2\n",
        "\n",
        "print(type(tam_sayı))\n",
        "print(type(ondalıklı_sayı))"
      ],
      "metadata": {
        "colab": {
          "base_uri": "https://localhost:8080/"
        },
        "id": "yKlXzwmAvNh4",
        "outputId": "a103bd99-84a2-4d3b-e436-06edfd0cbe7d"
      },
      "execution_count": null,
      "outputs": [
        {
          "output_type": "stream",
          "name": "stdout",
          "text": [
            "<class 'int'>\n",
            "<class 'float'>\n"
          ]
        }
      ]
    },
    {
      "cell_type": "markdown",
      "source": [
        "* tam sayı ve ondalıklı sayı adın da iki değişken oluşturduk ve bu değiişkenlerin veri tiplerini type() fonksiyonu ile ekrana yazdırdık"
      ],
      "metadata": {
        "id": "g3ZZ0g-Nve-v"
      }
    },
    {
      "cell_type": "markdown",
      "source": [
        "* int ve float veri tipleri +, -, *, **, /, //, % matematiksel operatörlerle işlemler yapılabilir"
      ],
      "metadata": {
        "id": "dA4Qbaufvv63"
      }
    },
    {
      "cell_type": "code",
      "source": [
        "a=8\n",
        "b=3.2\n",
        "c=2\n",
        "\n",
        "print(\"a+b= \",a+b)\n",
        "\n",
        "print(\"a-b= \",b-a)\n",
        "\n",
        "print(\"a*b= \",a*b)\n",
        "\n",
        "print(\"a**b= \",a**c)\n",
        "\n",
        "print(\"a/b= \",a/c)\n",
        "\n",
        "print(\"a//b= \",a//b)\n",
        "\n",
        "print(\"a%b= \",a%c)"
      ],
      "metadata": {
        "colab": {
          "base_uri": "https://localhost:8080/"
        },
        "id": "J-HL3LRVwQ5h",
        "outputId": "23e269aa-cb2c-420d-8fe8-627c6c1715f6"
      },
      "execution_count": null,
      "outputs": [
        {
          "output_type": "stream",
          "name": "stdout",
          "text": [
            "a+b=  11.2\n",
            "a-b=  -4.8\n",
            "a*b=  25.6\n",
            "a**b=  64\n",
            "a/b=  4.0\n",
            "a//b=  2.0\n",
            "a%b=  0\n"
          ]
        }
      ]
    },
    {
      "cell_type": "markdown",
      "source": [
        "* Temel matematiksel operatörler dışında ** üs almaya , // bölümünü tam sayı vermeye, % ise mod almaya yarar"
      ],
      "metadata": {
        "id": "CrdNTIPuxJ_k"
      }
    },
    {
      "cell_type": "markdown",
      "source": [
        "* MATH FUNCTİONS ( MATEMATİKSEL FONKSİYONLAR )"
      ],
      "metadata": {
        "id": "UTe9MrnRyj8r"
      }
    },
    {
      "cell_type": "markdown",
      "source": [
        "* Kod içerisin de bazı işlemleri kolaylıkla yapmamıza yarayan matematik fonskiyonları bulunur. Bunlar; round() -> ondalıklı sayıyı en yakın sayıya yuvarlar. abs() -> negatif sayıyı pozitif e çevirir mutlak değer görevi görür."
      ],
      "metadata": {
        "id": "jv298fQ6yyms"
      }
    },
    {
      "cell_type": "code",
      "source": [
        "print(\" 3.8 sayısını en yakın sayıya yuvarladı= \",round(3.8))\n",
        "print(\" -5 sayısını pozitif e çevirdii= \", abs(-5))\n"
      ],
      "metadata": {
        "colab": {
          "base_uri": "https://localhost:8080/"
        },
        "id": "1qU0kbALzWJv",
        "outputId": "11218b3b-3e5a-4001-b220-c4acfa813f42"
      },
      "execution_count": null,
      "outputs": [
        {
          "output_type": "stream",
          "name": "stdout",
          "text": [
            " 3.8 sayısını en yakın sayıya yuvarladı=  4\n",
            " -5 sayısını pozitif e çevirdii=  5\n"
          ]
        }
      ]
    },
    {
      "cell_type": "markdown",
      "source": [
        "* Python da derinlemesine matematikten daha çok karşılaşacağımız şey  işlem öncelikleri olabilir\n",
        "\n",
        "\n",
        "```\n",
        "print((5 + 4) * 10 / 2)\n",
        "\n",
        "print(((5 + 4) * 10) / 2)\n",
        "\n",
        "print((5 + 4) * (10 / 2))\n",
        "\n",
        "print(5 + (4 * 10) / 2)\n",
        "\n",
        "print(5 + 4 * 10 // 2)\n",
        "```\n",
        "* Burada dikkat etmemiz gereken temel matematikte olduğu gibi parantez içerisinde başlayıp sırayla devam etmektir.\n",
        "\n",
        "\n"
      ],
      "metadata": {
        "id": "-w4eeW5NK0Pk"
      }
    },
    {
      "cell_type": "markdown",
      "source": [
        "* Python içerisin de pek kullanılmayan ama aklımızın bir köşesinde olmasının yararlı olabileceğini düşündüğüm iki fonksiyon var.\n",
        "* Biri complex() fonksiyonu bu fonksiyon çok karmaşık matematiksel işlemler yaparken işimize yarayabilir. Bir diğeri ise herhangi bir sayıyı binary şeklin de yazdırmaya yarayan bin() fonksiyonu bu fonksiyon da parantez içerisin de olan sayı 0b101 gibi binary e dönüşür bu ifade aslında 5 in karşılığıdır. Tam tersi binary nin karşılığını da print(int(0b101, 2)) şeklin de tam bir sayıya çevirebiliriz.\n",
        "* Bu bilgi aklımızın bir köşesin de yer edinirse bizim için yararlı olabilir\n",
        "\n",
        "\n",
        "\n",
        "\n",
        "\n",
        "\n",
        "\n"
      ],
      "metadata": {
        "id": "kq0hx7r5M-LH"
      }
    },
    {
      "cell_type": "markdown",
      "source": [
        "#**VARİABLES (DEĞİŞKENLER)**"
      ],
      "metadata": {
        "id": "w1i1mcFrPP5j"
      }
    },
    {
      "cell_type": "markdown",
      "source": [
        "* Oluşturduğumuz değeri bir yerde tutmamız gerekir.İhtiyacımız olduğu zaman çağırmak için değerleri değişkenlere atarız.\n",
        "* Kod yazarken değişkenleri genellikle snake_case denilen şekilde oluştururuz\n",
        "\n",
        "\n",
        "```\n",
        "my_variable=\"Merhaba\"\n",
        "```\n",
        "\n",
        "* Değerimiz i \"Merhaba\" olarak belirledik ve my_variable değişkenine atadık\n",
        "artık print(my_variable) yi ne zaman çağırırsak çıktı olarak \"Merhaba\" değerini görürüz."
      ],
      "metadata": {
        "id": "nn-fmlAvbGih"
      }
    },
    {
      "cell_type": "markdown",
      "source": [
        "* Bir değeri ve ve değer ile birlikte değişkeni de ifade eden iki terim bulunur;Expression değişkene atadığımız değer Statement ise değişken ve değer i kapsayandır"
      ],
      "metadata": {
        "id": "Vr89atXcgFsP"
      }
    },
    {
      "cell_type": "markdown",
      "source": [],
      "metadata": {
        "id": "jzpb9ZwujpYZ"
      }
    },
    {
      "cell_type": "markdown",
      "source": [
        "# **STRİNG VERİ TİPİ - STR**"
      ],
      "metadata": {
        "id": "bYTPswk7h5Wj"
      }
    },
    {
      "cell_type": "markdown",
      "source": [
        "* String veri tipi değişkenlere karakterler atamamıza yarar.\n",
        "\n",
        "\n",
        "```\n",
        "# my_string=\"Emre\"\n",
        "\n",
        "```\n",
        "\n",
        "\n",
        "\n"
      ],
      "metadata": {
        "id": "u9jHawZejPNL"
      }
    },
    {
      "cell_type": "markdown",
      "source": [
        "* String veri tipleri kendi araların da + ile birleşebilirler ama string veri tipi ile integer veri tipi birleşemez\n",
        "\n",
        "\n",
        "```\n",
        "name=\"Emre\"\n",
        "sur_name=\" Öztürk\"\n",
        "\n",
        "full_name=name+surname\n",
        "Çıktısı \"Emre Öztürk\"\n",
        "\n",
        "```\n",
        "* Örnekte olduğu gibi string ile string i birleştirdim ama int bir veri tipi yani tam sayı birleştirmeye çalışsaydım hata alırdım\n",
        "\n"
      ],
      "metadata": {
        "id": "onp1jG3BkzV3"
      }
    },
    {
      "cell_type": "markdown",
      "source": [
        "* String veri tipin de formatted Strings yani string formatlama bulunur bu yapı ile print içerisin de değişkenleri ekleyip daha dinamik bir hale getirebiliriz"
      ],
      "metadata": {
        "id": "XXqbdLF8o5N2"
      }
    },
    {
      "cell_type": "code",
      "source": [
        "name=\"Emre\"\n",
        "sur_name=\"Öztürk\"\n",
        "age=25\n",
        "\n",
        "print(f\"Hoş geldin {name} {sur_name} yaşınız : {age}\")"
      ],
      "metadata": {
        "colab": {
          "base_uri": "https://localhost:8080/"
        },
        "id": "UQP_rPXepL22",
        "outputId": "af473e79-ca35-4033-d995-6d81dbe3de0b"
      },
      "execution_count": null,
      "outputs": [
        {
          "output_type": "stream",
          "name": "stdout",
          "text": [
            "Hoş geldin Emre Öztürk yaşınız : 25\n"
          ]
        }
      ]
    },
    {
      "cell_type": "markdown",
      "source": [
        "* String formatlama da en temiz ve anlaşılır yöntem kullandığımız yöntemdir"
      ],
      "metadata": {
        "id": "3aRdOZmSpmRk"
      }
    },
    {
      "cell_type": "markdown",
      "source": [
        "* string veri tipinde ki değişkenler 0 dan başkar ve sırasıyla 1, 2 diye gider buna index deriz"
      ],
      "metadata": {
        "id": "ig521i2rsiCN"
      }
    },
    {
      "cell_type": "code",
      "source": [
        "my_index=\"123456\"\n",
        "my_index[0]"
      ],
      "metadata": {
        "colab": {
          "base_uri": "https://localhost:8080/",
          "height": 36
        },
        "id": "-FKIfqZ1stik",
        "outputId": "efb289d1-19e4-4b53-eb9b-1cd3baf5fc50"
      },
      "execution_count": null,
      "outputs": [
        {
          "output_type": "execute_result",
          "data": {
            "text/plain": [
              "'1'"
            ],
            "application/vnd.google.colaboratory.intrinsic+json": {
              "type": "string"
            }
          },
          "metadata": {},
          "execution_count": 2
        }
      ]
    },
    {
      "cell_type": "markdown",
      "source": [
        "* Burada köşeli parantez içerisin de sıfırıncı index i aldık"
      ],
      "metadata": {
        "id": "ME6ZoIi_s1Oi"
      }
    },
    {
      "cell_type": "code",
      "source": [
        "my_index[1:]\n",
        "\n",
        "# my_index[başla:dur:adım sayısı]\n",
        "\n",
        "my_index[0:4:2]\n",
        "\n",
        "# Burada sıfırıncı indexten başla dördüncü indexte dur ve 2 adım atla demek istedik\n",
        "\n",
        "my_index[::-1]\n",
        "\n",
        "# -1 yazarak stringi tersten yazdırabiliriz"
      ],
      "metadata": {
        "colab": {
          "base_uri": "https://localhost:8080/",
          "height": 36
        },
        "id": "5DT3qPH7s8bV",
        "outputId": "0601a454-2a5c-4f34-9683-b8035efc6384"
      },
      "execution_count": null,
      "outputs": [
        {
          "output_type": "execute_result",
          "data": {
            "text/plain": [
              "'654321'"
            ],
            "application/vnd.google.colaboratory.intrinsic+json": {
              "type": "string"
            }
          },
          "metadata": {},
          "execution_count": 5
        }
      ]
    },
    {
      "cell_type": "markdown",
      "source": [
        "* String ifadeler değiştirilemezler yani oluşturulan bir ifadenin içerisin de ki ifade değişmez"
      ],
      "metadata": {
        "id": "R9P7ZLNWvRB9"
      }
    },
    {
      "cell_type": "code",
      "source": [
        "my_string=\"Hello\"\n",
        "\n",
        "# my_string[2]=i\n",
        "\n",
        "# Burada biz ikinci index i değiştirmek istersek hata alırırız.\n",
        "# String bir ifadenin değiştirmenin tek yolu yeni bir ifade ye çevirmek olur"
      ],
      "metadata": {
        "id": "W3lulAkgvbjd"
      },
      "execution_count": null,
      "outputs": []
    },
    {
      "cell_type": "markdown",
      "source": [
        "* String ifadelerin içeriğin de değişiklikler yapmak istersek stringler için oluşturulmuş methodları kullanabiliriz bu methodlar string ifadeleri değiştirir."
      ],
      "metadata": {
        "id": "4uxmroSJIYB_"
      }
    },
    {
      "cell_type": "code",
      "source": [
        "my_string2=\"World\"\n",
        "\n",
        "my_string2.upper()\n",
        "\n",
        "# değişkenden sonra . koyarak metotlara ulaşabiliriz ve işimize yarayabilecekleri kullanırız bunlardan biri upper() metodu"
      ],
      "metadata": {
        "colab": {
          "base_uri": "https://localhost:8080/",
          "height": 36
        },
        "id": "Zb6SkbDvInoI",
        "outputId": "d5496d2f-2048-467b-f48c-7b34e42a6d46"
      },
      "execution_count": null,
      "outputs": [
        {
          "output_type": "execute_result",
          "data": {
            "text/plain": [
              "'WORLD'"
            ],
            "application/vnd.google.colaboratory.intrinsic+json": {
              "type": "string"
            }
          },
          "metadata": {},
          "execution_count": 8
        }
      ]
    },
    {
      "cell_type": "markdown",
      "source": [
        "* BOOLEAN\n",
        "* Boolean veri tipi doğru veya yanlışı temsil eder.\n",
        "* 1 doğru 0 ise yanlıştır.\n",
        "* Koşullu ifadelerin temeli sayılır"
      ],
      "metadata": {
        "id": "5DVgfn1IJ5Ib"
      }
    },
    {
      "cell_type": "code",
      "source": [
        "print(bool(1))"
      ],
      "metadata": {
        "colab": {
          "base_uri": "https://localhost:8080/"
        },
        "id": "BmiA8FZjKRqz",
        "outputId": "47cae145-947d-4a9d-8cda-8d76dc7dac55"
      },
      "execution_count": null,
      "outputs": [
        {
          "output_type": "stream",
          "name": "stdout",
          "text": [
            "True\n"
          ]
        }
      ]
    },
    {
      "cell_type": "code",
      "source": [
        "print(bool(0))"
      ],
      "metadata": {
        "colab": {
          "base_uri": "https://localhost:8080/"
        },
        "id": "aNg1-17zKVGn",
        "outputId": "e13f51be-e962-451a-915b-ec808868476a"
      },
      "execution_count": null,
      "outputs": [
        {
          "output_type": "stream",
          "name": "stdout",
          "text": [
            "False\n"
          ]
        }
      ]
    },
    {
      "cell_type": "markdown",
      "source": [
        "* **ALIŞTIRMA 1**"
      ],
      "metadata": {
        "id": "VxvbQ_CaLFHH"
      }
    },
    {
      "cell_type": "code",
      "source": [
        "my_birthday=int(input(\"Doğum yılınızı giriniz :\"))\n",
        "\n",
        "yas=2024 - my_birthday\n",
        "\n",
        "print(f\"Doğum yılınız : {my_birthday} ve yaşınız : {yas}\")\n",
        "\n",
        "# input oluşturup değişken e atadık ve girdiğimiz değeri string formatlama yöntemi ile ekrana yazdırdık.\n",
        "\n",
        "# string ve int birlikte toplanmayacağı için input u int içerisine alıp dönüşüm yaptık"
      ],
      "metadata": {
        "colab": {
          "base_uri": "https://localhost:8080/"
        },
        "id": "4k-V70DgLMot",
        "outputId": "0b9084af-f924-4d70-8fd9-a2785ea199bc"
      },
      "execution_count": null,
      "outputs": [
        {
          "output_type": "stream",
          "name": "stdout",
          "text": [
            "Doğum yılınızı giriniz :1998\n",
            "Doğum yılınız : 1998 ve yaşınız : 26\n"
          ]
        }
      ]
    },
    {
      "cell_type": "code",
      "source": [
        "user_name=input(\"Kullanıcı adı :\")\n",
        "password=input(\"Şifre :\")\n",
        "\n",
        "print(f\"Kullanıcı adınız : {user_name} şifreniz : {   '*' * len(password)} ve şifre uzunluğunuz : {len(password)}\")\n",
        "\n",
        "# Burada kullanıcı adı ve şifre aldık format metodu ile de çıktımızı yazdırdık\n",
        "\n",
        "# şifremizi * ile maskelemek isterken süslü parantez için de \"\" çift tırnak kullanmak hataya sebep verir tek tırnak kullanmamız gerekiyor"
      ],
      "metadata": {
        "id": "DDI7YL-1Li_G",
        "colab": {
          "base_uri": "https://localhost:8080/"
        },
        "outputId": "8199cef5-f3db-4801-f34b-264ebe37a955"
      },
      "execution_count": null,
      "outputs": [
        {
          "output_type": "stream",
          "name": "stdout",
          "text": [
            "Kullanıcı adı :emre\n",
            "Şifre :1234\n",
            "Kullanıcı adınız : emre şifreniz : **** ve şifre uzunluğunuz : 4\n"
          ]
        }
      ]
    },
    {
      "cell_type": "markdown",
      "source": [
        "# **LİSTS (LİSTE VERİ TİPLERİ)**"
      ],
      "metadata": {
        "id": "a-WK3wlYzNYw"
      }
    },
    {
      "cell_type": "markdown",
      "source": [
        "* Python da Veri Yapılarının yani Data Structures in ilkine listeler diyebiliriz\n",
        "* Listeler içerisin de farklı türden veri tiplerini tutabilir içerisin de int de olabilir float veri tipi de"
      ],
      "metadata": {
        "id": "UgKzxpr9zdDT"
      }
    },
    {
      "cell_type": "code",
      "source": [
        "listem=[\"merhaba\", 1 , 3.4 ,  True ]\n",
        "\n",
        "print(listem[3])"
      ],
      "metadata": {
        "colab": {
          "base_uri": "https://localhost:8080/"
        },
        "id": "zKWPxImG4tuH",
        "outputId": "fead7fa1-767e-44ee-fbe7-93d2466cc302"
      },
      "execution_count": null,
      "outputs": [
        {
          "output_type": "stream",
          "name": "stdout",
          "text": [
            "True\n"
          ]
        }
      ]
    },
    {
      "cell_type": "markdown",
      "source": [
        "* Bir değişkene atanan ve köşeli parantez ile oluşturulan liste veri tipinin içerisin de olan veri tiplerine erişebilmek için tıpkı str veri  tipin de olduğu gibi index alma yöntemi ile ulaşabiliriz"
      ],
      "metadata": {
        "id": "rPOf7VUN5GGC"
      }
    },
    {
      "cell_type": "markdown",
      "source": [
        "* Tıpkı str veri tipin de olduğu gibi listelerde de dilimleme yani silicing yapabiliriz."
      ],
      "metadata": {
        "id": "mQPAon8PDPXA"
      }
    },
    {
      "cell_type": "code",
      "source": [
        "listem=[\"merhaba\", 1 , 3.4 ,  True ]\n",
        "\n",
        "listem[1:3]\n",
        "# listem adında ki değişkeni 1. index ile 3. index arasında böldüm\n",
        "# sonuç olarak çıktım [1,3.4] olur\n",
        "\n",
        "listem[1:3:2]\n",
        "# burada 1. indexten başla 3. index e kadar git dedim ama bir farkla\n",
        "# son yazdığım sayesin de 2 adım ilerlemesini istedim\n",
        "# sonuç olarak çıktım [1] olur.\n",
        "\n",
        "listem[::-1]\n",
        "# sona -1 yazarak liste içindekilerin tam tersini alırım\n",
        "# çıktım [True, 3.4, 1, 'merhaba'] olur\n",
        "\n",
        "listem[::-2]\n",
        "# son a -2 yazrak 2 adım gitmesini istedim\n",
        "# [True, 1] şeklinde bir çıktı alırım.\n",
        "\n",
        "listem[0]=\"dünya\"\n",
        "\n",
        "# str içerisindekiler değiştirilemezdi ama liste veri tipi\n",
        "# içerisindekileri değiştirmeye izin verir\n",
        "\n",
        "print(listem)\n",
        "# çıktım [\"dünya\", 1 , 3.4 ,  True ] şeklinde olur"
      ],
      "metadata": {
        "id": "U75_9X28DbVB"
      },
      "execution_count": null,
      "outputs": []
    },
    {
      "cell_type": "markdown",
      "source": [
        "* Listeler içerisin de bir liste daha bulunabilir buna matrix deriz\n",
        "* Bunlara erişebilmek içinse index i kullabiliriz"
      ],
      "metadata": {
        "id": "8r8NWYZ9HJfq"
      }
    },
    {
      "cell_type": "code",
      "source": [
        "listem=[\"merhaba\", 1 , 3.4 ,  True , [4,5,6,7] ]\n",
        "listem[4]\n",
        "# [4,5,6,7] listesine index kullanarak ulaştık\n",
        "\n",
        "print(listem[4] [0])\n",
        "# bu şekilde de liste içerisinde ki öğelere erişebiliriz"
      ],
      "metadata": {
        "id": "PR8r1duNHZPC"
      },
      "execution_count": null,
      "outputs": []
    },
    {
      "cell_type": "code",
      "source": [
        "basket = [\"Banana\", [\"Apples\", [\"Oranges\"], \"Blueberries\"]]\n",
        "# Oranges e ulaşmak istersek\n",
        "\n",
        "print(basket[1] [1] [0])"
      ],
      "metadata": {
        "colab": {
          "base_uri": "https://localhost:8080/"
        },
        "id": "aHi7Ai1qHjAF",
        "outputId": "1d1cde91-b79c-438b-b9bc-4eb9b47cc8af"
      },
      "execution_count": null,
      "outputs": [
        {
          "output_type": "stream",
          "name": "stdout",
          "text": [
            "Oranges\n"
          ]
        }
      ]
    },
    {
      "cell_type": "markdown",
      "source": [
        "* Listeler de kullanabileceğimiz bazı kullanışlı metotlar vardır\n",
        "* Bu metotlar sayesin de liste içerisin de ekleme ve çıkarma yapabiliriz"
      ],
      "metadata": {
        "id": "mxKDRVfmLr-b"
      }
    },
    {
      "cell_type": "code",
      "source": [
        "\n",
        "listem= [1,2,3,4,5]\n",
        "\n",
        "# ekleme\n",
        "\n",
        "listem.append(100)\n",
        "\n",
        "print(listem)\n",
        "# append ile listenin sonuna eleman ekleyebiliriz\n",
        "\n",
        "listem.insert(0,99)\n",
        "\n",
        "print(listem)\n",
        "# insert metodu ile de istediğimiz index e ekleme yapabiliriz\n",
        "\n",
        "# çıkarma\n",
        "\n",
        "listem.pop()\n",
        "\n",
        "print(listem)\n",
        "# pop metodu parantez içerisine birşey yazmadığımız sürece son elemanı siler\n",
        "# parantez içerisine istediğimiz index i yazarsak o index silinir\n",
        "\n",
        "listem.remove(2)\n",
        "\n",
        "print(listem)\n",
        "\n",
        "listem.clear()\n",
        "\n",
        "print(listem)\n",
        "# clear metodu ise liste içerisinde ki herşeyi siler"
      ],
      "metadata": {
        "colab": {
          "base_uri": "https://localhost:8080/"
        },
        "id": "XgogfEs6L4UG",
        "outputId": "103ea6b6-19d8-4e6e-b632-557bcdd544fc"
      },
      "execution_count": null,
      "outputs": [
        {
          "output_type": "stream",
          "name": "stdout",
          "text": [
            "[1, 2, 3, 4, 5, 100]\n",
            "[99, 1, 2, 3, 4, 5, 100]\n",
            "[99, 1, 2, 3, 4, 5]\n",
            "[99, 1, 3, 4, 5]\n",
            "[]\n"
          ]
        }
      ]
    },
    {
      "cell_type": "code",
      "source": [
        "friends = ['Simon', 'Patty', 'Joy', 'Carrie', 'Amira', 'Chu']\n",
        "\n",
        "new_friend=[\"Stanley\"]\n",
        "\n",
        "friends.extend(new_friend)\n",
        "# extend metodu append metodu gibi listenin sonuna eleman ekleyebilir\n",
        "\n",
        "friends.reverse()\n",
        "# reverse metodu ile de listenin içinde ki elemanları tersine çevirebiliriz\n",
        "\n",
        "friends.sort()\n",
        "# sort metodu ise elamanları alfabetik sırayla dizmemizi sağlar\n",
        "\n",
        "print(friends)\n",
        "\n"
      ],
      "metadata": {
        "colab": {
          "base_uri": "https://localhost:8080/"
        },
        "id": "NJ8-VgSyMHll",
        "outputId": "9e54e819-5af5-42ff-8ef5-51ba0d14e5ca"
      },
      "execution_count": null,
      "outputs": [
        {
          "output_type": "stream",
          "name": "stdout",
          "text": [
            "['Amira', 'Carrie', 'Chu', 'Joy', 'Patty', 'Simon', 'Stanley']\n"
          ]
        }
      ]
    },
    {
      "cell_type": "code",
      "source": [
        "listem=[1,2,3,4,5]\n",
        "\n",
        "yeni_liste=listem.copy()\n",
        "# copy metodu ile mevcut listemin bir kopyasını oluşturabilirim\n",
        "# burada mevcut listem kaybolmaz veya değişmez bir kopyası oluşur\n",
        "\n",
        "print(yeni_liste)"
      ],
      "metadata": {
        "colab": {
          "base_uri": "https://localhost:8080/"
        },
        "id": "KUGYnFf8xicF",
        "outputId": "76e2b013-9825-46e6-d9b7-4dbc754b97d1"
      },
      "execution_count": null,
      "outputs": [
        {
          "output_type": "stream",
          "name": "stdout",
          "text": [
            "[1, 2, 3, 4, 5]\n"
          ]
        }
      ]
    },
    {
      "cell_type": "code",
      "source": [
        "listem=[1,2,3,4,5]\n",
        "\n",
        "x=listem.count(2)\n",
        "# count metodu ile liste içinde ki elemanın kaç kere döndüğünü anlayabiliriz\n",
        "\n",
        "print(x)"
      ],
      "metadata": {
        "colab": {
          "base_uri": "https://localhost:8080/"
        },
        "id": "LwZ0-Jzr00E6",
        "outputId": "fb122222-d478-4141-c49b-fa94f30b2308"
      },
      "execution_count": null,
      "outputs": [
        {
          "output_type": "stream",
          "name": "stdout",
          "text": [
            "1\n"
          ]
        }
      ]
    },
    {
      "cell_type": "code",
      "source": [
        "listem=[1,2,3,4,5]\n",
        "\n",
        "x=listem.index(4)\n",
        "# index metodu ile lliste içinde ki elamanın kaçıncı index de olduğunu anlarız\n",
        "\n",
        "print(x)"
      ],
      "metadata": {
        "colab": {
          "base_uri": "https://localhost:8080/"
        },
        "id": "aLCMeOYF1dGm",
        "outputId": "39cd1784-57e7-4121-e277-92880939e0c0"
      },
      "execution_count": null,
      "outputs": [
        {
          "output_type": "stream",
          "name": "stdout",
          "text": [
            "3\n"
          ]
        }
      ]
    },
    {
      "cell_type": "markdown",
      "source": [
        "* Değişkenler de kullandığımız;\n",
        "\n",
        "\n",
        "```\n",
        "a,b,c=1,2,3\n",
        "```\n",
        "* şeklin de ki yapı listelerde de kullanılabilir\n",
        "\n"
      ],
      "metadata": {
        "id": "d4_V-Vsj5H4h"
      }
    },
    {
      "cell_type": "code",
      "source": [
        "a, b, c =[1,2,3]\n",
        "\n",
        "print(a)\n",
        "print(b)\n",
        "print(c)\n",
        "# a, b, c adın da 3 değişkeni 3 farklı elemana atadık\n",
        "\n",
        "\n",
        "a, b , c, *other =[1,2,3,4,5]\n",
        "print(a)\n",
        "print(b)\n",
        "print(c)\n",
        "print(other)\n",
        "# a, b ve c değişkenleri ayrı other değişkeni de farklı olarak alınır"
      ],
      "metadata": {
        "colab": {
          "base_uri": "https://localhost:8080/"
        },
        "id": "8YL-S2ko5eJe",
        "outputId": "e53d3920-f636-47a6-de24-8cdf333aa080"
      },
      "execution_count": null,
      "outputs": [
        {
          "output_type": "stream",
          "name": "stdout",
          "text": [
            "1\n",
            "2\n",
            "3\n",
            "1\n",
            "2\n",
            "3\n",
            "[4, 5]\n"
          ]
        }
      ]
    },
    {
      "cell_type": "markdown",
      "source": [
        "# **DİCTİONARİES (SÖZLÜK)**"
      ],
      "metadata": {
        "id": "LSWzEOA7Znzo"
      }
    },
    {
      "cell_type": "markdown",
      "source": [
        "* Sözlükler içerisin de key (anahtar) ve value (değer) bulunduran başka bir veri yapısıdır.\n",
        "* Listeler de olduğu gibi index şeklin de sıralı değillerdir"
      ],
      "metadata": {
        "id": "QpeJSNHfZyjl"
      }
    },
    {
      "cell_type": "code",
      "source": [
        "sözlük={\"a\":1,\"b\":\"hello\",\"c\":[1,2,3]}\n",
        "print(type(sözlük))"
      ],
      "metadata": {
        "colab": {
          "base_uri": "https://localhost:8080/"
        },
        "id": "-Fvooc-1aEJG",
        "outputId": "c6d4e637-a74d-4ca9-9c5e-62471cf1db90"
      },
      "execution_count": null,
      "outputs": [
        {
          "output_type": "stream",
          "name": "stdout",
          "text": [
            "<class 'dict'>\n"
          ]
        }
      ]
    },
    {
      "cell_type": "code",
      "source": [
        "print(sözlük[\"a\"])\n",
        "# key yani anahtarı kullanarak değere value ulaşırım"
      ],
      "metadata": {
        "colab": {
          "base_uri": "https://localhost:8080/"
        },
        "id": "5t5RdiSvaUrz",
        "outputId": "9271ebeb-c91c-40be-9a5e-5189d6b9f493"
      },
      "execution_count": null,
      "outputs": [
        {
          "output_type": "stream",
          "name": "stdout",
          "text": [
            "1\n"
          ]
        }
      ]
    },
    {
      "cell_type": "code",
      "source": [
        "print(sözlük[\"c\"][1])\n",
        "# sözlük içerisiin de listeler bulunabilir"
      ],
      "metadata": {
        "colab": {
          "base_uri": "https://localhost:8080/"
        },
        "id": "_JvQlKq-ac8M",
        "outputId": "02aaedde-c843-4021-e41c-7f1dbfa7f97c"
      },
      "execution_count": null,
      "outputs": [
        {
          "output_type": "stream",
          "name": "stdout",
          "text": [
            "2\n"
          ]
        }
      ]
    },
    {
      "cell_type": "code",
      "source": [
        "listem=[\n",
        "    {\n",
        "        \"d\":1,\n",
        "        \"e\":True,\n",
        "        \"f\":[4,5,6]\n",
        "    }\n",
        "]\n",
        "\n",
        "\n",
        "print(listem[0][\"f\"][0])\n",
        "# liste içerisinde de sözlükler bulunabilir"
      ],
      "metadata": {
        "colab": {
          "base_uri": "https://localhost:8080/"
        },
        "id": "UBxm_LIWau92",
        "outputId": "07dc181e-3b25-4cb2-baac-289757b41933"
      },
      "execution_count": null,
      "outputs": [
        {
          "output_type": "stream",
          "name": "stdout",
          "text": [
            "4\n"
          ]
        }
      ]
    },
    {
      "cell_type": "markdown",
      "source": [
        "* Sözlükler de anahtarlar yani key değiştirilemez veri tiplerinden oluşurlar ve genel de string veri tipleri kullanılır"
      ],
      "metadata": {
        "id": "l2goLPDqdV6X"
      }
    },
    {
      "cell_type": "code",
      "source": [
        "sözlük={\n",
        "    \"a\":\"hello\",\n",
        "    123:[4,5],\n",
        "    True:5,\n",
        "\n",
        "}\n",
        "\n",
        "# genellikle string veri tipi kullanılmasına rağmen değiştirilemez olan tüm veri\n",
        "# tipleri kullanılabilir"
      ],
      "metadata": {
        "id": "Q4_syzJJdfuI"
      },
      "execution_count": null,
      "outputs": []
    },
    {
      "cell_type": "code",
      "source": [
        "sözlük={\n",
        "    \"user\":\"Emre\",\n",
        "    \"password\":\"12345\",\n",
        "\n",
        "}\n",
        "\n",
        "\n",
        "print(sözlük.get(\"age\"))\n",
        "\n",
        "# Sözlükler de listeler gibi metotlar içerir bunlardan biri get() metodudur\n",
        "# get() metodu sayesin de sözlük içerisin de hangi anahtar olup olmadığını\n",
        "# anlarız ve istersek olmayan anahtar için yeni bir anahtar yazabiliriz"
      ],
      "metadata": {
        "colab": {
          "base_uri": "https://localhost:8080/"
        },
        "id": "wT5cCxuxeGsU",
        "outputId": "4375a89d-7519-477e-b8f9-94317a782013"
      },
      "execution_count": null,
      "outputs": [
        {
          "output_type": "stream",
          "name": "stdout",
          "text": [
            "None\n"
          ]
        }
      ]
    },
    {
      "cell_type": "code",
      "source": [
        "sözlük={\n",
        "    \"user\":\"Emre\",\n",
        "    \"password\":\"12345\",\n",
        "\n",
        "}\n",
        "\n",
        "\n",
        "print(sözlük.get(\"age\",25))"
      ],
      "metadata": {
        "colab": {
          "base_uri": "https://localhost:8080/"
        },
        "id": "XgAK4u0ifb9r",
        "outputId": "087fcbec-f723-4712-f77f-47472698b495"
      },
      "execution_count": null,
      "outputs": [
        {
          "output_type": "stream",
          "name": "stdout",
          "text": [
            "25\n"
          ]
        }
      ]
    },
    {
      "cell_type": "code",
      "source": [
        "sözlük={\n",
        "    \"a\":1,\n",
        "    \"b\":2,\n",
        "    \"c\":3\n",
        "}\n",
        "\n",
        "\n",
        "print(sözlük.keys())\n",
        "# keys() metodu sözlük içerisin de bulunan anahtarları belirtir\n",
        "\n",
        "print(sözlük.values())\n",
        "# values() metodu değerleri belirtir\n",
        "\n",
        "sözlük2=sözlük.copy()\n",
        "\n",
        "print(sözlük2)\n",
        "\n",
        "# copy() metodu ile var olan sözlüğün yeni bir kopyasını oluşturabiliriz\n",
        "\n",
        "print(sözlük.items())\n",
        "# items() metodu key ve value birlikte verir\n",
        "\n",
        "sözlük.update({\"d\":4})\n",
        "print(sözlük)\n",
        "# update() metodu ile sözlük içine yeni bir key value eklenebilir\n",
        "\n",
        "sözlük.pop(\"a\")\n",
        "print(sözlük)\n",
        "# pop() metodu ile belirtilen key ve değeri silinir\n",
        "\n",
        "sözlük.popitem()\n",
        "print(sözlük)\n",
        "# sözlükler her ne kadar sıralı olmasalar da popitem() metodu ile\n",
        "# son eklenen key value kaldırılır\n",
        "\n"
      ],
      "metadata": {
        "colab": {
          "base_uri": "https://localhost:8080/"
        },
        "id": "g1PMSVFwf23O",
        "outputId": "0dea7a41-34d3-4939-9580-5a417e9eaa9a"
      },
      "execution_count": null,
      "outputs": [
        {
          "output_type": "stream",
          "name": "stdout",
          "text": [
            "dict_keys(['a', 'b', 'c'])\n",
            "dict_values([1, 2, 3])\n",
            "{'a': 1, 'b': 2, 'c': 3}\n",
            "dict_items([('a', 1), ('b', 2), ('c', 3)])\n",
            "{'a': 1, 'b': 2, 'c': 3, 'd': 4}\n",
            "{'b': 2, 'c': 3, 'd': 4}\n",
            "{'b': 2, 'c': 3}\n"
          ]
        }
      ]
    },
    {
      "cell_type": "markdown",
      "source": [
        "# **TUPLES**"
      ],
      "metadata": {
        "id": "hn4p_iw4f3YP"
      }
    },
    {
      "cell_type": "markdown",
      "source": [
        "* Tuple veri yapısı nerdeyse listelere benzer ama farklı olarak içinde ki değerler değişmezdir\n",
        "* Değişmesini istemediğimiz değerler i tuple kullanarak oluşturabiliriz"
      ],
      "metadata": {
        "id": "jOsmW1relrwe"
      }
    },
    {
      "cell_type": "code",
      "source": [
        "my_tuple=(1,2,3,\"a\")\n",
        "# () parantez  içinde olan değerler değiştirilemez\n",
        "\n",
        "# my_tuple[0]=6\n",
        "# Sıfırıncı indeksi değiştirmek istersek bir hata alırız"
      ],
      "metadata": {
        "id": "jYJZ5pq2l8Br"
      },
      "execution_count": 2,
      "outputs": []
    },
    {
      "cell_type": "code",
      "source": [
        "my_tuple=(1,2,3,\"a\")\n",
        "\n",
        "print(my_tuple.count(1))\n",
        "# Tuple da count() metodu sayesinde içerisinde kaç tane\n",
        "# değer olduğunu öğrenebiliriz\n",
        "\n",
        "print(my_tuple.index(3))\n",
        "# index() metodu ile de kaçıncı indexte olduğunu öğreniriz\n"
      ],
      "metadata": {
        "id": "zGa5njsdmOag"
      },
      "execution_count": null,
      "outputs": []
    },
    {
      "cell_type": "markdown",
      "source": [
        "# **SET VERİ YAPISI**"
      ],
      "metadata": {
        "id": "Gu0jfQf4nwO0"
      }
    },
    {
      "cell_type": "markdown",
      "source": [
        "* Set veri yapısının içinde ki değerler benzersiz ve tekrarlanmayan değerlerdir\n",
        "* Sıralanmış olmadıkları için index ile değerlere ulaşamayız"
      ],
      "metadata": {
        "id": "xbCFsbEtp67a"
      }
    },
    {
      "cell_type": "code",
      "source": [
        "my_set={1,2,3,4,5,5}\n",
        "\n",
        "print(my_set)\n",
        "# Aynı değerden sadece 1 tane bulunabilir"
      ],
      "metadata": {
        "colab": {
          "base_uri": "https://localhost:8080/"
        },
        "id": "1urGpax9qITb",
        "outputId": "fea0fe7b-fcf9-4636-f708-e109daf500ad"
      },
      "execution_count": 5,
      "outputs": [
        {
          "output_type": "stream",
          "name": "stdout",
          "text": [
            "{1, 2, 3, 4, 5}\n"
          ]
        }
      ]
    }
  ]
}